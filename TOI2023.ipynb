{
  "nbformat": 4,
  "nbformat_minor": 0,
  "metadata": {
    "colab": {
      "provenance": [],
      "toc_visible": true,
      "include_colab_link": true
    },
    "kernelspec": {
      "name": "python3",
      "display_name": "Python 3"
    },
    "language_info": {
      "name": "python"
    }
  },
  "cells": [
    {
      "cell_type": "markdown",
      "metadata": {
        "id": "view-in-github",
        "colab_type": "text"
      },
      "source": [
        "<a href=\"https://colab.research.google.com/github/Matiak/TOI/blob/main/TOI2023.ipynb\" target=\"_parent\"><img src=\"https://colab.research.google.com/assets/colab-badge.svg\" alt=\"Open In Colab\"/></a>"
      ]
    },
    {
      "cell_type": "code",
      "execution_count": 2,
      "metadata": {
        "id": "fU6aTQMyFXS2"
      },
      "outputs": [],
      "source": [
        "# Druhy TOI projekt\n",
        "# Autor sablony: Jan Beran, 2023\n",
        "# Jmeno resitele/resitelky: Martin Babača\n",
        "# xlogin:   xbabac02\n",
        "\n",
        "\n",
        "# Zde si pripadne pridejte vlastni importy \n",
        "import pandas as pd\n",
        "import numpy as np\n",
        "import matplotlib.pyplot as plt\n",
        "import scipy.stats as stats # možná se vám bude hodit pro statistické testy\n"
      ]
    },
    {
      "cell_type": "code",
      "source": [
        "t_avg = pd.read_csv(\"http://janberan.tech/wp-content/uploads/2023/02/T_avg.csv\")\n",
        "t_min = pd.read_csv(\"http://janberan.tech/wp-content/uploads/2023/02/T_min.csv\")\n",
        "t_max = pd.read_csv(\"http://janberan.tech/wp-content/uploads/2023/02/T_max.csv\")\n",
        "rain = pd.read_csv(\"http://janberan.tech/wp-content/uploads/2023/02/rain.csv\")\n",
        "wind = pd.read_csv(\"http://janberan.tech/wp-content/uploads/2023/02/wind.csv\")\n",
        "air = pd.read_csv(\"http://janberan.tech/wp-content/uploads/2023/02/Kvalita_ovzdusi___Air_quality.csv\")\n",
        "\n",
        "# Pokud by začaly odkazy výše vykazovat problémy s dostupností:\n",
        "# 1) Stáhněte si zálohu dat z https://drive.google.com/drive/folders/12MjA3NTgHtssvzIPKFEEptwVTxOmhV1s?usp=sharing \n",
        "# 2) Nahrajte data do runtime\n",
        "# 3) Změňte odkazy výše na lokální cesty\n",
        "# 4) Opakujte pokaždé, když se resetuje runtime - otevření a zavření souboru atp.\n",
        "# 5) Dejte mi vědět a já soubory nahraju někam jinam, abyste je nemuseli pokaždé ručně nahrávat do runtime\n",
        "\n",
        "# Prostor pro váš kód"
      ],
      "metadata": {
        "id": "EC654PBePXMA"
      },
      "execution_count": 3,
      "outputs": []
    },
    {
      "cell_type": "markdown",
      "source": [
        "#Část 1: Deskriptivní analýza\n",
        "\n",
        "Budete pracovat se soubory:\n",
        "* **T_avg.csv**: průměrná teplota v ˚C\n",
        "* **T_min.csv**: minimální teplota v ˚C\n",
        "* **T_max.csv**: maximální teplota v ˚C\n",
        "* **rain.csv**: úhrn srážek v mm\n",
        "* **wind.csv**: rychlost větru v m/s\n",
        "* **Kvalita_ovzduší___Air_quality.csv**: různá data, měřeno v µg/m³\n",
        "\n",
        "  **no2_1h** : Hodnota NO2 - oxidu dusičitého, updatováno každou hodinu\n",
        "\n",
        "  **pm10_1h**: Koncentrace polétavého prachu do 10um (pyl, standardní prach), updatováno jednou za hodinu\n",
        "  \n",
        "  **pm2_5_1h**: Koncentrace polétavého prachu do 2.5um (výfukové plyny, organické látky…) updatováno jednou za hodinu\n",
        "\n",
        "Ve všech souborech kromě posledního je vždy jen jeden údaj. V posledním (soubor **Kvalita_ovzduší___Air_quality.csv**, data v proměnné **air**) je údajů opravdu velké množství, vy se ovšem zaměřte na měření označená jako no2_1h, pm10_1h a pm2_5_1h. Dávejte si přitom pozor, abyste vyfiltrovali opravdu jen relevantní data (tedy pro stanici Brno-Tuřany). V ostatních datasetech jsou data pouze z této stanice. Celkem tedy budete mít k dispozici 8 datasetů.\n",
        "\n",
        "### Tabulka pro základní údaje o každém z osmi datasetů:\n",
        "Ke každé tabulce navíc uveďte, jak budete daná data upravovat.\n",
        "\n",
        "|Název charakteristiky | Hodnota\n",
        "|----------------------|--------\n",
        "|**Jméno datasetu**    |(např. \"průměrná teplota\" -- ta je uložena v souboru T_avg.csv)   \n",
        "|**Rozsah a četnost** | od kdy do kdy a jak často probíhala měření\n",
        "|**Maximum**           |\n",
        "|**Minimum**           | \n",
        "|**Aritmetický průměr**|\n",
        "|**Popis dat, co bude třeba upravit**         |Jsou data kompletní nebo některé hodnoty chybí? Jak bude třeba data upravit?\n",
        "\n",
        "### Prostor pro vaše hypotézy:\n",
        "Např: Domnívám se, že zde bude existovat vztah mezi datasety pm10_1h a pm2_5_1h, jelikož oba datasety určují množství polétavých částic. Pokud (např. v důsledku deště) poklesne hodnota jednoho údaje, měla by poklesnout i hodnota druhého údaje. "
      ],
      "metadata": {
        "id": "kni9LdYNFs9U"
      }
    },
    {
      "cell_type": "code",
      "source": [
        "print(\"t_avg\")\n",
        "t_avg_GF = pd.melt(t_avg,id_vars=['rok','měsíc'], var_name='deň',value_name='value')\n",
        "t_avg_GF = t_avg_GF.rename(columns={\"rok\": \"year\", \"měsíc\": \"month\",\"deň\":\"day\"})\n",
        "t_avg_GF['day'] = t_avg_GF['day'].astype(int)\n",
        "t_avg_GF['date'] = pd.to_datetime(t_avg_GF[['year','month','day']], errors='coerce')\n",
        "t_avg_GF = t_avg_GF[pd.notnull(t_avg_GF['date'])]\n",
        "print(t_avg_GF[['date']].sort_values('date', ascending = True).head(1))\n",
        "print(t_avg_GF[['date']].sort_values(['date'], ascending = [False]).head(1))\n",
        "print(t_avg_GF.loc[t_avg_GF.isna().any(axis=1)])\n",
        "print(t_avg_GF.dropna().describe().loc[['count','mean','min','max']])\n",
        "t_avg_GF['value'].plot.hist()"
      ],
      "metadata": {
        "id": "0LPIeh8Fn3In",
        "outputId": "fac37c76-0b92-4c74-90be-19a37e5f64c1",
        "colab": {
          "base_uri": "https://localhost:8080/",
          "height": 743
        }
      },
      "execution_count": 59,
      "outputs": [
        {
          "output_type": "stream",
          "name": "stdout",
          "text": [
            "t_avg\n",
            "        date\n",
            "0 1961-01-01\n",
            "            date\n",
            "23063 2022-12-31\n",
            "       year  month  day  value       date\n",
            "19335  2022      4   26    NaN 2022-04-26\n",
            "20079  2022      4   27    NaN 2022-04-27\n",
            "20823  2022      4   28    NaN 2022-04-28\n",
            "21567  2022      4   29    NaN 2022-04-29\n",
            "22311  2022      4   30    NaN 2022-04-30\n",
            "23056  2022      5   31    NaN 2022-05-31\n",
            "               year         month          day         value\n",
            "count  22639.000000  22639.000000  22639.00000  22639.000000\n",
            "mean    1991.492248      6.523654     15.72596      9.402343\n",
            "min     1961.000000      1.000000      1.00000    -19.900000\n",
            "max     2022.000000     12.000000     31.00000     30.800000\n"
          ]
        },
        {
          "output_type": "execute_result",
          "data": {
            "text/plain": [
              "<Axes: ylabel='Frequency'>"
            ]
          },
          "metadata": {},
          "execution_count": 59
        },
        {
          "output_type": "display_data",
          "data": {
            "text/plain": [
              "<Figure size 640x480 with 1 Axes>"
            ],
            "image/png": "[encoded data removed]"
          },
          "metadata": {}
        }
      ]
    },
    {
      "cell_type": "markdown",
      "source": [
        "### Dataset t_avg\n",
        "\n",
        "|Názov charakteristiky | Hodnota\n",
        "|----------------------|--------\n",
        "| **Jméno datasetu**    | priemerná denná teplota \\[˚C\\]\n",
        "|**Rozsah a četnost** | merané od 1. 1. 1961 do 31. 12. 2022, hodnota raz denne\n",
        "|**Maximum**           | 30.8 ˚C\n",
        "|**Minimum**           | -19.9 ˚C\n",
        "|**Aritmetický průměr**| 9.402343 ˚C\n",
        "|**Popis dat, co bude třeba upravit**         | Dáta sú rozdelené do 31 stĺpcov zodpovedajúcich dňom v mesiaci.<br>Je nutné tieto dáta trasformovať do jeného stĺpca a vytvoriť jeden stĺpec zodpovedajúci dátumu.<br>Ďalej odstránime neplatné dátumy a zostane 6 dátumov bez hodnoty.<br>Presnejšie chýbajú hodnoty pre interval 26-30.4.2022 a pre deň 31.5.2022."
      ],
      "metadata": {
        "id": "eP6_P8GHEc_8"
      }
    },
    {
      "cell_type": "code",
      "source": [
        "print(\"t_min\")\n",
        "t_min_GF = pd.melt(t_min,id_vars=['rok','měsíc'], var_name='deň',value_name='value')\n",
        "t_min_GF = t_min_GF.rename(columns={\"rok\": \"year\", \"měsíc\": \"month\",\"deň\":\"day\"})\n",
        "t_min_GF['day'] = t_min_GF['day'].astype(int)\n",
        "t_min_GF['date'] = pd.to_datetime(t_min_GF[['year','month','day']], errors='coerce')\n",
        "t_min_GF = t_min_GF[pd.notnull(t_min_GF['date'])]\n",
        "print(t_min_GF[['date']].sort_values('date', ascending = True).head(1))\n",
        "print(t_min_GF[['date']].sort_values(['date'], ascending = [False]).head(1))\n",
        "print(t_min_GF.loc[t_min_GF.isna().any(axis=1)])\n",
        "print(t_min_GF.dropna().describe().loc[['count','mean','min','max']])\n",
        "t_min_GF['value'].plot.hist()"
      ],
      "metadata": {
        "id": "XcjCFRqtDDdr",
        "outputId": "5f563b7a-66a2-4ec2-9dcf-bf7e07de4a4f",
        "colab": {
          "base_uri": "https://localhost:8080/"
        }
      },
      "execution_count": 34,
      "outputs": [
        {
          "output_type": "stream",
          "name": "stdout",
          "text": [
            "t_min\n",
            "        date\n",
            "0 1961-01-01\n",
            "            date\n",
            "23063 2022-12-31\n",
            "       year  month  day  value       date\n",
            "19335  2022      4   26    NaN 2022-04-26\n",
            "20079  2022      4   27    NaN 2022-04-27\n",
            "20823  2022      4   28    NaN 2022-04-28\n",
            "21567  2022      4   29    NaN 2022-04-29\n",
            "22311  2022      4   30    NaN 2022-04-30\n",
            "23056  2022      5   31    NaN 2022-05-31\n",
            "               year         month          day         value\n",
            "count  22639.000000  22639.000000  22639.00000  22639.000000\n",
            "mean    1991.492248      6.523654     15.72596      5.027042\n",
            "min     1961.000000      1.000000      1.00000    -24.100000\n",
            "max     2022.000000     12.000000     31.00000     24.200000\n"
          ]
        }
      ]
    },
    {
      "cell_type": "markdown",
      "source": [
        "### Dataset t_min\n",
        "\n",
        "|Názov charakteristiky | Hodnota\n",
        "|----------------------|--------\n",
        "| **Jméno datasetu**    | minimálna denná teplota \\[˚C\\]\n",
        "|**Rozsah a četnost** | merané od 1. 1. 1961 do 31. 12. 2022, hodnota raz denne\n",
        "|**Maximum**           | 24.2 ˚C\n",
        "|**Minimum**           | -24.1 ˚C\n",
        "|**Aritmetický průměr**| 5.027042 ˚C\n",
        "|**Popis dat, co bude třeba upravit**         | Dáta sú rozdelené do 31 stĺpcov zodpovedajúcich dňom v mesiaci.<br>Je nutné tieto dáta trasformovať do jeného stĺpca a vytvoriť jeden stĺpec zodpovedajúci dátumu.<br>Ďalej odstránime neplatné dátumy a zostane 6 dátumov bez hodnoty.<br>Presnejšie chýbajú hodnoty pre interval 26-30.4.2022 a pre deň 31.5.2022."
      ],
      "metadata": {
        "id": "Pf6aEzGPTnAq"
      }
    },
    {
      "cell_type": "code",
      "source": [
        "print(\"t_max\")\n",
        "t_max_GF = pd.melt(t_max,id_vars=['rok','měsíc'], var_name='deň',value_name='value')\n",
        "t_max_GF = t_max_GF.rename(columns={\"rok\": \"year\", \"měsíc\": \"month\",\"deň\":\"day\"})\n",
        "t_max_GF['day'] = t_max_GF['day'].astype(int)\n",
        "t_max_GF['date'] = pd.to_datetime(t_max_GF[['year','month','day']], errors='coerce')\n",
        "t_max_GF = t_max_GF[pd.notnull(t_max_GF['date'])]\n",
        "print(t_max_GF[['date']].sort_values('date', ascending = True).head(1))\n",
        "print(t_max_GF[['date']].sort_values(['date'], ascending = [False]).head(1))\n",
        "print(t_max_GF.loc[t_max_GF.isna().any(axis=1)])\n",
        "print(t_max_GF.dropna().describe().loc[['count','mean','min','max']])\n",
        "t_max_GF['value'].plot.hist()"
      ],
      "metadata": {
        "id": "SgONte46DFes",
        "outputId": "3bfcfd8d-e309-4c6e-edca-df6362b20647",
        "colab": {
          "base_uri": "https://localhost:8080/"
        }
      },
      "execution_count": 35,
      "outputs": [
        {
          "output_type": "stream",
          "name": "stdout",
          "text": [
            "t_max\n",
            "        date\n",
            "0 1961-01-01\n",
            "            date\n",
            "23063 2022-12-31\n",
            "       year  month  day  value       date\n",
            "19335  2022      4   26    NaN 2022-04-26\n",
            "20079  2022      4   27    NaN 2022-04-27\n",
            "20823  2022      4   28    NaN 2022-04-28\n",
            "21567  2022      4   29    NaN 2022-04-29\n",
            "22311  2022      4   30    NaN 2022-04-30\n",
            "23056  2022      5   31    NaN 2022-05-31\n",
            "               year         month          day         value\n",
            "count  22639.000000  22639.000000  22639.00000  22639.000000\n",
            "mean    1991.492248      6.523654     15.72596     13.924131\n",
            "min     1961.000000      1.000000      1.00000    -16.700000\n",
            "max     2022.000000     12.000000     31.00000     37.800000\n"
          ]
        }
      ]
    },
    {
      "cell_type": "markdown",
      "source": [
        "### Dataset t_max\n",
        "\n",
        "|Názov charakteristiky | Hodnota\n",
        "|----------------------|--------\n",
        "| **Jméno datasetu**    | maximálna denná teplota \\[˚C\\]\n",
        "|**Rozsah a četnost** | merané od 1. 1. 1961 do 31. 12. 2022, hodnota raz denne\n",
        "|**Maximum**           | 37.8 ˚C\n",
        "|**Minimum**           | -16.7 ˚C\n",
        "|**Aritmetický průměr**| 13.924131 ˚C\n",
        "|**Popis dat, co bude třeba upravit**         | Dáta sú rozdelené do 31 stĺpcov zodpovedajúcich dňom v mesiaci.<br>Je nutné tieto dáta trasformovať do jeného stĺpca a vytvoriť jeden stĺpec zodpovedajúci dátumu.<br>Ďalej odstránime neplatné dátumy a zostane 6 dátumov bez hodnoty.<br>Presnejšie chýbajú hodnoty pre interval 26-30.4.2022 a pre deň 31.5.2022."
      ],
      "metadata": {
        "id": "9Tk0VWr9UTMc"
      }
    },
    {
      "cell_type": "code",
      "source": [
        "print(\"rain\")\n",
        "rain_GF = pd.melt(rain,id_vars=['rok','měsíc'], var_name='deň',value_name='value')\n",
        "rain_GF = rain_GF.rename(columns={\"rok\": \"year\", \"měsíc\": \"month\",\"deň\":\"day\"})\n",
        "rain_GF['day'] = rain_GF['day'].astype(int)\n",
        "rain_GF['date'] = pd.to_datetime(rain_GF[['year','month','day']], errors='coerce')\n",
        "rain_GF = rain_GF[pd.notnull(rain_GF['date'])]\n",
        "print(rain_GF[['date']].sort_values('date', ascending = True).head(1))\n",
        "print(rain_GF[['date']].sort_values(['date'], ascending = [False]).head(1))\n",
        "print(rain_GF.loc[rain_GF.isna().any(axis=1)])\n",
        "print(rain_GF.dropna().describe().loc[['count','mean','min','max']])\n",
        "rain_GF['value'].plot.hist()"
      ],
      "metadata": {
        "id": "LKsrPL57DHil",
        "outputId": "35377286-b9ff-429c-ab40-9cc719843bf0",
        "colab": {
          "base_uri": "https://localhost:8080/"
        }
      },
      "execution_count": 36,
      "outputs": [
        {
          "output_type": "stream",
          "name": "stdout",
          "text": [
            "rain\n",
            "        date\n",
            "0 1961-01-01\n",
            "            date\n",
            "23063 2022-12-31\n",
            "       year  month  day  value       date\n",
            "19335  2022      4   26    NaN 2022-04-26\n",
            "20079  2022      4   27    NaN 2022-04-27\n",
            "20821  2022      2   28    NaN 2022-02-28\n",
            "20823  2022      4   28    NaN 2022-04-28\n",
            "21567  2022      4   29    NaN 2022-04-29\n",
            "22311  2022      4   30    NaN 2022-04-30\n",
            "23056  2022      5   31    NaN 2022-05-31\n",
            "             year         month           day         value\n",
            "count  22638.0000  22638.000000  22638.000000  22638.000000\n",
            "mean    1991.4909      6.523854     15.725417      1.373059\n",
            "min     1961.0000      1.000000      1.000000      0.000000\n",
            "max     2022.0000     12.000000     31.000000     82.100000\n"
          ]
        }
      ]
    },
    {
      "cell_type": "markdown",
      "source": [
        "### Dataset rain\n",
        "\n",
        "|Názov charakteristiky | Hodnota\n",
        "|----------------------|--------\n",
        "| **Jméno datasetu**    | úhrn zrážok \\[mm\\]\n",
        "|**Rozsah a četnost** | merané od 1. 1. 1961 do 31. 12. 2022, hodnota raz denne\n",
        "|**Maximum**           | 82.1 ˚C\n",
        "|**Minimum**           | 0.0 ˚C\n",
        "|**Aritmetický průměr**| 1.373059 ˚C\n",
        "|**Popis dat, co bude třeba upravit**         | Dáta sú rozdelené do 31 stĺpcov zodpovedajúcich dňom v mesiaci.<br>Je nutné tieto dáta trasformovať do jeného stĺpca a vytvoriť jeden stĺpec zodpovedajúci dátumu.<br>Ďalej odstránime neplatné dátumy a zostane 7 dátumov bez hodnoty.<br>Presnejšie chýbajú hodnoty pre interval 26-30.4.2022 a pre dni 28.2.2022 a 31.5.2022."
      ],
      "metadata": {
        "id": "YlZvq5_8U4ev"
      }
    },
    {
      "cell_type": "code",
      "source": [
        "print(\"wind\")\n",
        "wind_GF = pd.melt(wind,id_vars=['rok','měsíc'], var_name='deň',value_name='value')\n",
        "wind_GF = wind_GF.rename(columns={\"rok\": \"year\", \"měsíc\": \"month\",\"deň\":\"day\"})\n",
        "wind_GF['day'] = wind_GF['day'].astype(int)\n",
        "wind_GF['date'] = pd.to_datetime(wind_GF[['year','month','day']], errors='coerce')\n",
        "wind_GF = wind_GF[pd.notnull(wind_GF['date'])]\n",
        "print(wind_GF[['date']].sort_values('date', ascending = True).head(1))\n",
        "print(wind_GF[['date']].sort_values(['date'], ascending = [False]).head(1))\n",
        "print(wind_GF.loc[wind_GF.isna().any(axis=1)])\n",
        "print(wind_GF.dropna().describe().loc[['count','mean','min','max']])\n",
        "wind_GF['value'].plot.hist()"
      ],
      "metadata": {
        "id": "Pq887B0EWEYH",
        "outputId": "5b6f0aa6-a8e2-486a-fcbb-19e24eb07ae4",
        "colab": {
          "base_uri": "https://localhost:8080/"
        }
      },
      "execution_count": 37,
      "outputs": [
        {
          "output_type": "stream",
          "name": "stdout",
          "text": [
            "wind\n",
            "        date\n",
            "0 1961-01-01\n",
            "            date\n",
            "23063 2022-12-31\n",
            "       year  month  day  value       date\n",
            "19335  2022      4   26    NaN 2022-04-26\n",
            "20079  2022      4   27    NaN 2022-04-27\n",
            "20823  2022      4   28    NaN 2022-04-28\n",
            "21567  2022      4   29    NaN 2022-04-29\n",
            "22279  2019      8   30    NaN 2019-08-30\n",
            "22311  2022      4   30    NaN 2022-04-30\n",
            "23056  2022      5   31    NaN 2022-05-31\n",
            "               year         month           day         value\n",
            "count  22638.000000  22638.000000  22638.000000  22638.000000\n",
            "mean    1991.491033      6.523589     15.725329      3.472193\n",
            "min     1961.000000      1.000000      1.000000      0.000000\n",
            "max     2022.000000     12.000000     31.000000     17.300000\n"
          ]
        }
      ]
    },
    {
      "cell_type": "markdown",
      "source": [
        "### Dataset wind\n",
        "\n",
        "|Názov charakteristiky | Hodnota\n",
        "|----------------------|--------\n",
        "| **Jméno datasetu**    | rýchlosť vetra \\[m/s\\]\n",
        "|**Rozsah a četnost** | merané od 1. 1. 1961 do 31. 12. 2022, hodnota raz denne\n",
        "|**Maximum**           | 17.3 ˚C\n",
        "|**Minimum**           | 0.0 ˚C\n",
        "|**Aritmetický průměr**| 3.472193 ˚C\n",
        "|**Popis dat, co bude třeba upravit**         | Dáta sú rozdelené do 31 stĺpcov zodpovedajúcich dňom v mesiaci.<br>Je nutné tieto dáta trasformovať do jeného stĺpca a vytvoriť jeden stĺpec zodpovedajúci dátumu.<br>Ďalej odstránime neplatné dátumy a zostane 7 dátumov bez hodnoty.<br>Presnejšie chýbajú hodnoty pre interval 26-30.4.2022 a pre dni 30.8.2019 a 31.5.2022."
      ],
      "metadata": {
        "id": "hdha-eEOWE7H"
      }
    },
    {
      "cell_type": "code",
      "source": [
        "print(\"wind\")\n",
        "#print(air.head())\n",
        "air_GF = air[air['name']=='Brno-Tuřany']\n",
        "del air_GF['X']\n",
        "del air_GF['Y']\n",
        "del air_GF['lat']\n",
        "del air_GF['lon']\n",
        "del air_GF['so2_1h']\n",
        "del air_GF['co_8h']\n",
        "del air_GF['pm10_24h']\n",
        "del air_GF['o3_1h']\n",
        "print(\"no2_1h\")\n",
        "print(air_GF[air_GF['no2_1h'].isna()])\n",
        "print(\"pm10_1h\")\n",
        "print(air_GF[air_GF['pm10_1h'].isna()])\n",
        "print(\"pm2_5_1h\")\n",
        "print(air_GF[air_GF['pm2_5_1h'].isna()])\n",
        "print(\"no2_1h && pm10_1h\")\n",
        "print(air_GF[air_GF[['no2_1h','pm10_1h']].isna().all(axis=1)])\n",
        "print(\"summary\")\n",
        "print(air_GF.describe())\n",
        "#air_GF['no2_1h'].plot.hist(bins=100)\n",
        "#air_GF['pm10_1h'].plot.hist(bins=100)\n",
        "air_GF['pm2_5_1h'].plot.hist(bins=100)\n",
        "print(air_GF[['actualized']].sort_values('actualized', ascending = True).head(1))\n",
        "print(air_GF[['actualized']].sort_values(['actualized'], ascending = [False]).head(1))"
      ],
      "metadata": {
        "id": "KoVj8ERiXUq2",
        "outputId": "7c02e30a-0ed0-4abc-cca3-3f518da47fcd",
        "colab": {
          "base_uri": "https://localhost:8080/",
          "height": 1000
        }
      },
      "execution_count": 72,
      "outputs": [
        {
          "output_type": "stream",
          "name": "stdout",
          "text": [
            "wind\n",
            "no2_1h\n",
            "       objectid   code         name owner              actualized  no2_1h  \\\n",
            "29        51592  BBNYA  Brno-Tuřany  ČHMÚ  2022/02/09 15:37:45+00     NaN   \n",
            "126       51689  BBNYA  Brno-Tuřany  ČHMÚ  2022/02/10 01:37:48+00     NaN   \n",
            "154       51717  BBNYA  Brno-Tuřany  ČHMÚ  2022/02/10 04:37:51+00     NaN   \n",
            "249       51812  BBNYA  Brno-Tuřany  ČHMÚ  2022/02/10 13:37:57+00     NaN   \n",
            "474       52037  BBNYA  Brno-Tuřany  ČHMÚ  2022/02/11 12:38:11+00     NaN   \n",
            "...         ...    ...          ...   ...                     ...     ...   \n",
            "67323    118886  BBNYA  Brno-Tuřany  ČHMÚ  2023/02/05 23:43:25+00     NaN   \n",
            "67537    119100  BBNYA  Brno-Tuřany  ČHMÚ  2023/02/06 22:43:27+00     NaN   \n",
            "67729    119292  BBNYA  Brno-Tuřany  ČHMÚ  2023/02/07 21:43:29+00     NaN   \n",
            "67927    119490  BBNYA  Brno-Tuřany  ČHMÚ  2023/02/08 20:43:56+00     NaN   \n",
            "68040    119603  BBNYA  Brno-Tuřany  ČHMÚ  2023/02/09 12:43:56+00     NaN   \n",
            "\n",
            "       pm10_1h  pm2_5_1h                                globalid  \n",
            "29         5.0       3.0  {BE17D5A2-E257-408B-85BB-268106C41B0E}  \n",
            "126        NaN       0.0  {3F668BDA-20CE-47F7-91F4-FEAF0965D572}  \n",
            "154        NaN       0.0  {10FAE63E-3D46-44E6-B74A-BEED357CB0F4}  \n",
            "249       12.0      12.0  {063FC740-D5D7-4D92-806D-C47091409653}  \n",
            "474       17.0       8.0  {812DEB40-1232-4675-81B5-BEACD20E045D}  \n",
            "...        ...       ...                                     ...  \n",
            "67323     14.2       6.6  {EB40BBF3-AFC8-4965-818D-A6E28F326B09}  \n",
            "67537     32.6      28.7  {79AECE16-8FF8-4153-B6AD-B519CF76F7CF}  \n",
            "67729     23.3      26.2  {3CD0CEAA-F000-477B-935D-9654C9FE2A69}  \n",
            "67927     16.0       8.5  {6589D722-34CF-4EF8-9932-0F8A259444A0}  \n",
            "68040      NaN       0.0  {86974684-4CE9-4514-92FD-A8E65CA859BC}  \n",
            "\n",
            "[1421 rows x 9 columns]\n",
            "pm10_1h\n",
            "       objectid   code         name owner              actualized  no2_1h  \\\n",
            "126       51689  BBNYA  Brno-Tuřany  ČHMÚ  2022/02/10 01:37:48+00     NaN   \n",
            "154       51717  BBNYA  Brno-Tuřany  ČHMÚ  2022/02/10 04:37:51+00     NaN   \n",
            "831       52394  BBNYA  Brno-Tuřany  ČHMÚ  2022/02/13 00:38:30+00     NaN   \n",
            "856       52419  BBNYA  Brno-Tuřany  ČHMÚ  2022/02/13 02:38:30+00     NaN   \n",
            "866       52429  BBNYA  Brno-Tuřany  ČHMÚ  2022/02/13 03:38:30+00     NaN   \n",
            "...         ...    ...          ...   ...                     ...     ...   \n",
            "60148    111711  BBNYA  Brno-Tuřany  ČHMÚ  2023/01/03 15:38:38+00     NaN   \n",
            "60195    111758  BBNYA  Brno-Tuřany  ČHMÚ  2023/01/03 20:38:38+00     NaN   \n",
            "60218    111781  BBNYA  Brno-Tuřany  ČHMÚ  2023/01/03 22:38:39+00     NaN   \n",
            "60242    111805  BBNYA  Brno-Tuřany  ČHMÚ  2023/01/04 02:38:38+00     NaN   \n",
            "68040    119603  BBNYA  Brno-Tuřany  ČHMÚ  2023/02/09 12:43:56+00     NaN   \n",
            "\n",
            "       pm10_1h  pm2_5_1h                                globalid  \n",
            "126        NaN       0.0  {3F668BDA-20CE-47F7-91F4-FEAF0965D572}  \n",
            "154        NaN       0.0  {10FAE63E-3D46-44E6-B74A-BEED357CB0F4}  \n",
            "831        NaN       0.0  {878403BB-6106-4542-9138-F802424B29D6}  \n",
            "856        NaN       0.0  {50DE9519-D544-4709-A862-2CE0A19142F1}  \n",
            "866        NaN       0.0  {9789A2E2-7F26-4ACC-A551-A5CE2F65CF80}  \n",
            "...        ...       ...                                     ...  \n",
            "60148      NaN       0.0  {0AB6C698-14D0-449C-AEE4-F12B15EA97A2}  \n",
            "60195      NaN       0.0  {31051584-E0EA-4EC2-9D59-E12C206C4E4E}  \n",
            "60218      NaN       0.0  {EED89312-A570-4BD4-B5D3-0E66047B20E1}  \n",
            "60242      NaN       0.0  {4D8FB7E7-E190-4AD8-9486-67CAE843514B}  \n",
            "68040      NaN       0.0  {86974684-4CE9-4514-92FD-A8E65CA859BC}  \n",
            "\n",
            "[1149 rows x 9 columns]\n",
            "pm2_5_1h\n",
            "Empty DataFrame\n",
            "Columns: [objectid, code, name, owner, actualized, no2_1h, pm10_1h, pm2_5_1h, globalid]\n",
            "Index: []\n",
            "no2_1h && pm10_1h\n",
            "       objectid   code         name owner              actualized  no2_1h  \\\n",
            "126       51689  BBNYA  Brno-Tuřany  ČHMÚ  2022/02/10 01:37:48+00     NaN   \n",
            "154       51717  BBNYA  Brno-Tuřany  ČHMÚ  2022/02/10 04:37:51+00     NaN   \n",
            "831       52394  BBNYA  Brno-Tuřany  ČHMÚ  2022/02/13 00:38:30+00     NaN   \n",
            "856       52419  BBNYA  Brno-Tuřany  ČHMÚ  2022/02/13 02:38:30+00     NaN   \n",
            "866       52429  BBNYA  Brno-Tuřany  ČHMÚ  2022/02/13 03:38:30+00     NaN   \n",
            "...         ...    ...          ...   ...                     ...     ...   \n",
            "60148    111711  BBNYA  Brno-Tuřany  ČHMÚ  2023/01/03 15:38:38+00     NaN   \n",
            "60195    111758  BBNYA  Brno-Tuřany  ČHMÚ  2023/01/03 20:38:38+00     NaN   \n",
            "60218    111781  BBNYA  Brno-Tuřany  ČHMÚ  2023/01/03 22:38:39+00     NaN   \n",
            "60242    111805  BBNYA  Brno-Tuřany  ČHMÚ  2023/01/04 02:38:38+00     NaN   \n",
            "68040    119603  BBNYA  Brno-Tuřany  ČHMÚ  2023/02/09 12:43:56+00     NaN   \n",
            "\n",
            "       pm10_1h  pm2_5_1h                                globalid  \n",
            "126        NaN       0.0  {3F668BDA-20CE-47F7-91F4-FEAF0965D572}  \n",
            "154        NaN       0.0  {10FAE63E-3D46-44E6-B74A-BEED357CB0F4}  \n",
            "831        NaN       0.0  {878403BB-6106-4542-9138-F802424B29D6}  \n",
            "856        NaN       0.0  {50DE9519-D544-4709-A862-2CE0A19142F1}  \n",
            "866        NaN       0.0  {9789A2E2-7F26-4ACC-A551-A5CE2F65CF80}  \n",
            "...        ...       ...                                     ...  \n",
            "60148      NaN       0.0  {0AB6C698-14D0-449C-AEE4-F12B15EA97A2}  \n",
            "60195      NaN       0.0  {31051584-E0EA-4EC2-9D59-E12C206C4E4E}  \n",
            "60218      NaN       0.0  {EED89312-A570-4BD4-B5D3-0E66047B20E1}  \n",
            "60242      NaN       0.0  {4D8FB7E7-E190-4AD8-9486-67CAE843514B}  \n",
            "68040      NaN       0.0  {86974684-4CE9-4514-92FD-A8E65CA859BC}  \n",
            "\n",
            "[1146 rows x 9 columns]\n",
            "summary\n",
            "            objectid       no2_1h      pm10_1h     pm2_5_1h\n",
            "count    6804.000000  5383.000000  5655.000000  6804.000000\n",
            "mean    85584.680188    13.054245    17.488028    11.255967\n",
            "std     19645.012990    10.336450    13.025202    10.781026\n",
            "min     51564.000000     1.000000     1.000000     0.000000\n",
            "25%     68578.000000     5.400000     9.000000     3.000000\n",
            "50%     85586.000000     9.800000    15.000000     9.000000\n",
            "75%    102590.500000    17.800000    23.000000    17.000000\n",
            "max    119618.000000    75.800000   331.000000   109.000000\n",
            "               actualized\n",
            "1  2022/02/09 13:37:45+00\n",
            "                   actualized\n",
            "68055  2023/02/09 13:43:57+00\n"
          ]
        },
        {
          "output_type": "display_data",
          "data": {
            "text/plain": [
              "<Figure size 640x480 with 1 Axes>"
            ],
            "image/png": "[encoded data removed]"
          },
          "metadata": {}
        }
      ]
    },
    {
      "cell_type": "markdown",
      "source": [
        "## Dataset Kvalita_ovzduší___Air_quality.csv\n",
        "### Dataset no2_1h\n",
        "\n",
        "|Názov charakteristiky | Hodnota\n",
        "|----------------------|--------\n",
        "| **Jméno datasetu**    | Hodnota NO2\n",
        "|**Rozsah a četnost** | merané od 9. 2. 2022 do 9. 2. 2023, hodnota raz za hodinu\n",
        "|**Maximum**           | 75.8\n",
        "|**Minimum**           | 1.0\n",
        "|**Aritmetický průměr**| 13.054245\n",
        "|**Popis dat, co bude třeba upravit**         | Dáta musia byť vytriedené len pre miesto Brno-Tuřany.<br>Dáta sú zaznamenávané po hodine a je nutné ich agregovať na jednu hodnotu denne aby bolo možné použiť ich v kombinácií s ostanými datasetmi.<br>\n",
        "\n",
        "### Dataset pm10_1h\n",
        "\n",
        "|Názov charakteristiky | Hodnota\n",
        "|----------------------|--------\n",
        "| **Jméno datasetu**    | Koncentrácia polietavého prachu do 10um (peľ, štandardný prach)\n",
        "|**Rozsah a četnost** | merané od 9. 2. 2022 do 9. 2. 2023, hodnota raz za hodinu\n",
        "|**Maximum**           | 331.0\n",
        "|**Minimum**           | 1.0\n",
        "|**Aritmetický průměr**| 17.488028\n",
        "|**Popis dat, co bude třeba upravit**         | Dáta sú rozdelené do 31 stĺpcov zodpovedajúcich dňom v mesiaci.<br>Je nutné tieto dáta trasformovať do jeného stĺpca a vytvoriť jeden stĺpec zodpovedajúci dátumu.<br>Ďalej odstránime neplatné dátumy a zostane 7 dátumov bez hodnoty.<br>Presnejšie chýbajú hodnoty pre interval 26-30.4.2022 a pre dni 30.8.2019 a 31.5.2022.\n",
        "\n",
        "### Dataset pm2_5_1h\n",
        "\n",
        "|Názov charakteristiky | Hodnota\n",
        "|----------------------|--------\n",
        "| **Jméno datasetu**    | Koncentrácia polietavého prachu do 2.5um (výfukové plyny, organické látky …)\n",
        "|**Rozsah a četnost** | merané od 9. 2. 2022 do 9. 2. 2023, hodnota raz za hodinu\n",
        "|**Maximum**           | 109.0\n",
        "|**Minimum**           | 0.0\n",
        "|**Aritmetický průměr**| 11.255967\n",
        "|**Popis dat, co bude třeba upravit**         | Dáta sú rozdelené do 31 stĺpcov zodpovedajúcich dňom v mesiaci. Je nutné tieto dáta trasformovať do jeného stĺpca a vytvoriť jeden stĺpec zodpovedajúci dátumu. Ďalej odstránime neplatné dátumy a zostane 7 dátumov bez hodnoty. Presnejšie chýbajú hodnoty pre interval 26-30.4.2022 a pre dni 30.8.2019 a 31.5.2022."
      ],
      "metadata": {
        "id": "prvdoQntXVMs"
      }
    },
    {
      "cell_type": "markdown",
      "source": [
        "# Část 2: Příprava dat\n",
        "\n",
        "V této části realizujete úpravu dat, kterou jste si navrhli v předchozí části. Detailní zadání je k dispozici v souboru se zadáním. Pracujte efektivně, využívejte, co vám Python a  jeho knihovny nabízejí.\n",
        "\n",
        "Nezapomeňte zodpovědět otázky ze zadání: Jak jste doplňovali chybějící data, jaký rozsah a četnost jste zvolili a jak jste data upravili. "
      ],
      "metadata": {
        "id": "QJPy57zPPUBK"
      }
    },
    {
      "cell_type": "code",
      "source": [],
      "metadata": {
        "id": "Gidaj4xIeJ0c"
      },
      "execution_count": null,
      "outputs": []
    },
    {
      "cell_type": "markdown",
      "source": [
        "# Část 3: Analýza dat \n",
        "\n",
        "V této části budete anaylzovat své časové řady. Není zde připravena žádná šablona, jelikož každý můžete používat rozdílné struktury uložení dat - a různé postupy - které povedou ke sprévnému výsledku.\n",
        "\n",
        "V souboru se zadáním je ovšem zmíněno několik funkcí, které vám mohou pomoci. \n",
        "\n",
        "Stručné zadání:\n",
        "Pro dvojice dat, pro které jste zformulovali hypotézy v části 1, a pro 3 libovolně zvolené jiné dvojice časových řad (jiné než ty, pro které jste formulovali hypotézy a nikoli dvě sady teplotních údajů) zjistěte:\n",
        "1) Kovarianci\n",
        "2) Pearsonův korelační koeficient\n",
        "3) Statistickou významnost koeficientu"
      ],
      "metadata": {
        "id": "nY5x8988W2ru"
      }
    },
    {
      "cell_type": "code",
      "source": [],
      "metadata": {
        "id": "-kFY6T1EeK8y"
      },
      "execution_count": null,
      "outputs": []
    },
    {
      "cell_type": "markdown",
      "source": [
        "## Část 4: Diskuze\n",
        "\n",
        "Níže uveďte požadované údaje tak, jak jsou popsány v souboru se zadáním."
      ],
      "metadata": {
        "id": "v5Z6GIpwtdWS"
      }
    },
    {
      "cell_type": "code",
      "source": [],
      "metadata": {
        "id": "AHwvPCsqeMAb"
      },
      "execution_count": null,
      "outputs": []
    },
    {
      "cell_type": "markdown",
      "source": [
        "## (Část 5: Zpětná vazba)\n",
        "\n",
        "Zde můžete uvést zpětnou vazbu k projektu, feedbacku a supportu ze strany učitelů, co byste zlepšili, co bylo naopak fajn. Nic, co zde bude napsáno, nebude mít vliv na hodnocení projektu; pozitivní feedback vám body nepřidá, negativní neubere. Jak pozitivní, tak i negativní feedback ovšem udělá radost opravujícímu. :)"
      ],
      "metadata": {
        "id": "sVBdXUu6x97r"
      }
    }
  ]
}