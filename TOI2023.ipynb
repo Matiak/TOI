{
  "nbformat": 4,
  "nbformat_minor": 0,
  "metadata": {
    "colab": {
      "provenance": [],
      "toc_visible": true,
      "include_colab_link": true
    },
    "kernelspec": {
      "name": "python3",
      "display_name": "Python 3"
    },
    "language_info": {
      "name": "python"
    }
  },
  "cells": [
    {
      "cell_type": "markdown",
      "metadata": {
        "id": "view-in-github",
        "colab_type": "text"
      },
      "source": [
        "<a href=\"https://colab.research.google.com/github/Matiak/TOI/blob/main/TOI2023.ipynb\" target=\"_parent\"><img src=\"https://colab.research.google.com/assets/colab-badge.svg\" alt=\"Open In Colab\"/></a>"
      ]
    },
    {
      "cell_type": "code",
      "execution_count": 3,
      "metadata": {
        "id": "fU6aTQMyFXS2"
      },
      "outputs": [],
      "source": [
        "# Druhy TOI projekt\n",
        "# Autor sablony: Jan Beran, 2023\n",
        "# Jmeno resitele/resitelky: Martin Babača\n",
        "# xlogin:   xbabac02\n",
        "\n",
        "\n",
        "# Zde si pripadne pridejte vlastni importy \n",
        "import pandas as pd\n",
        "import numpy as np\n",
        "import matplotlib.pyplot as plt\n",
        "import scipy.stats as stats # možná se vám bude hodit pro statistické testy\n"
      ]
    },
    {
      "cell_type": "code",
      "source": [
        "t_avg = pd.read_csv(\"http://janberan.tech/wp-content/uploads/2023/02/T_avg.csv\")\n",
        "t_min = pd.read_csv(\"http://janberan.tech/wp-content/uploads/2023/02/T_min.csv\")\n",
        "t_max = pd.read_csv(\"http://janberan.tech/wp-content/uploads/2023/02/T_max.csv\")\n",
        "rain = pd.read_csv(\"http://janberan.tech/wp-content/uploads/2023/02/rain.csv\")\n",
        "wind = pd.read_csv(\"http://janberan.tech/wp-content/uploads/2023/02/wind.csv\")\n",
        "air = pd.read_csv(\"http://janberan.tech/wp-content/uploads/2023/02/Kvalita_ovzdusi___Air_quality.csv\")\n",
        "\n",
        "# Pokud by začaly odkazy výše vykazovat problémy s dostupností:\n",
        "# 1) Stáhněte si zálohu dat z https://drive.google.com/drive/folders/12MjA3NTgHtssvzIPKFEEptwVTxOmhV1s?usp=sharing \n",
        "# 2) Nahrajte data do runtime\n",
        "# 3) Změňte odkazy výše na lokální cesty\n",
        "# 4) Opakujte pokaždé, když se resetuje runtime - otevření a zavření souboru atp.\n",
        "# 5) Dejte mi vědět a já soubory nahraju někam jinam, abyste je nemuseli pokaždé ručně nahrávat do runtime\n",
        "\n",
        "# Prostor pro váš kód"
      ],
      "metadata": {
        "id": "EC654PBePXMA"
      },
      "execution_count": 4,
      "outputs": []
    },
    {
      "cell_type": "markdown",
      "source": [
        "#Část 1: Deskriptivní analýza\n",
        "\n",
        "Budete pracovat se soubory:\n",
        "* **T_avg.csv**: průměrná teplota v ˚C\n",
        "* **T_min.csv**: minimální teplota v ˚C\n",
        "* **T_max.csv**: maximální teplota v ˚C\n",
        "* **rain.csv**: úhrn srážek v mm\n",
        "* **wind.csv**: rychlost větru v m/s\n",
        "* **Kvalita_ovzduší___Air_quality.csv**: různá data, měřeno v µg/m³\n",
        "\n",
        "  **no2_1h** : Hodnota NO2 - oxidu dusičitého, updatováno každou hodinu\n",
        "\n",
        "  **pm10_1h**: Koncentrace polétavého prachu do 10um (pyl, standardní prach), updatováno jednou za hodinu\n",
        "  \n",
        "  **pm2_5_1h**: Koncentrace polétavého prachu do 2.5um (výfukové plyny, organické látky…) updatováno jednou za hodinu\n",
        "\n",
        "Ve všech souborech kromě posledního je vždy jen jeden údaj. V posledním (soubor **Kvalita_ovzduší___Air_quality.csv**, data v proměnné **air**) je údajů opravdu velké množství, vy se ovšem zaměřte na měření označená jako no2_1h, pm10_1h a pm2_5_1h. Dávejte si přitom pozor, abyste vyfiltrovali opravdu jen relevantní data (tedy pro stanici Brno-Tuřany). V ostatních datasetech jsou data pouze z této stanice. Celkem tedy budete mít k dispozici 8 datasetů.\n",
        "\n",
        "### Tabulka pro základní údaje o každém z osmi datasetů:\n",
        "Ke každé tabulce navíc uveďte, jak budete daná data upravovat.\n",
        "\n",
        "|Název charakteristiky | Hodnota\n",
        "|----------------------|--------\n",
        "|**Jméno datasetu**    |(např. \"průměrná teplota\" -- ta je uložena v souboru T_avg.csv)   \n",
        "|**Rozsah a četnost** | od kdy do kdy a jak často probíhala měření\n",
        "|**Maximum**           |\n",
        "|**Minimum**           | \n",
        "|**Aritmetický průměr**|\n",
        "|**Popis dat, co bude třeba upravit**         |Jsou data kompletní nebo některé hodnoty chybí? Jak bude třeba data upravit?\n",
        "\n",
        "### Prostor pro vaše hypotézy:\n",
        "Např: Domnívám se, že zde bude existovat vztah mezi datasety pm10_1h a pm2_5_1h, jelikož oba datasety určují množství polétavých částic. Pokud (např. v důsledku deště) poklesne hodnota jednoho údaje, měla by poklesnout i hodnota druhého údaje. "
      ],
      "metadata": {
        "id": "kni9LdYNFs9U"
      }
    },
    {
      "cell_type": "code",
      "source": [
        "print(\"t_avg\")\n",
        "print(t_avg[['rok','měsíc']].sort_values(['rok','měsíc'], ascending = [True,True]).head(1))\n",
        "print(t_avg[['rok','měsíc']].sort_values(['rok','měsíc'], ascending = [False,False]).head(1))\n",
        "t_avg_GF = pd.melt(t_avg,id_vars=['rok','měsíc'], var_name='deň',value_name='value').dropna()\n",
        "t_avg_GF\n",
        "t_avg_GF['deň'] = t_avg_GF['deň'].astype(int)\n",
        "t_avg_GF = t_avg_GF.sort_values(['rok','měsíc','deň'])\n",
        "print(t_avg_GF.describe())"
      ],
      "metadata": {
        "id": "0LPIeh8Fn3In",
        "outputId": "f97eedac-3000-4740-85cb-77cafd9006a8",
        "colab": {
          "base_uri": "https://localhost:8080/"
        }
      },
      "execution_count": 37,
      "outputs": [
        {
          "output_type": "stream",
          "name": "stdout",
          "text": [
            "t_avg\n",
            "    rok  měsíc\n",
            "0  1961      1\n",
            "      rok  měsíc\n",
            "743  2022     12\n",
            "                rok         měsíc           deň         value\n",
            "count  22639.000000  22639.000000  22639.000000  22639.000000\n",
            "mean    1991.492248      6.523654     15.725960      9.402343\n",
            "std       17.891011      3.448990      8.798828      8.506944\n",
            "min     1961.000000      1.000000      1.000000    -19.900000\n",
            "25%     1976.000000      4.000000      8.000000      2.500000\n",
            "50%     1991.000000      7.000000     16.000000      9.800000\n",
            "75%     2007.000000     10.000000     23.000000     16.300000\n",
            "max     2022.000000     12.000000     31.000000     30.800000\n"
          ]
        }
      ]
    },
    {
      "cell_type": "markdown",
      "source": [
        "# Část 2: Příprava dat\n",
        "\n",
        "V této části realizujete úpravu dat, kterou jste si navrhli v předchozí části. Detailní zadání je k dispozici v souboru se zadáním. Pracujte efektivně, využívejte, co vám Python a  jeho knihovny nabízejí.\n",
        "\n",
        "Nezapomeňte zodpovědět otázky ze zadání: Jak jste doplňovali chybějící data, jaký rozsah a četnost jste zvolili a jak jste data upravili. "
      ],
      "metadata": {
        "id": "QJPy57zPPUBK"
      }
    },
    {
      "cell_type": "code",
      "source": [],
      "metadata": {
        "id": "Gidaj4xIeJ0c"
      },
      "execution_count": null,
      "outputs": []
    },
    {
      "cell_type": "markdown",
      "source": [
        "# Část 3: Analýza dat \n",
        "\n",
        "V této části budete anaylzovat své časové řady. Není zde připravena žádná šablona, jelikož každý můžete používat rozdílné struktury uložení dat - a různé postupy - které povedou ke sprévnému výsledku.\n",
        "\n",
        "V souboru se zadáním je ovšem zmíněno několik funkcí, které vám mohou pomoci. \n",
        "\n",
        "Stručné zadání:\n",
        "Pro dvojice dat, pro které jste zformulovali hypotézy v části 1, a pro 3 libovolně zvolené jiné dvojice časových řad (jiné než ty, pro které jste formulovali hypotézy a nikoli dvě sady teplotních údajů) zjistěte:\n",
        "1) Kovarianci\n",
        "2) Pearsonův korelační koeficient\n",
        "3) Statistickou významnost koeficientu"
      ],
      "metadata": {
        "id": "nY5x8988W2ru"
      }
    },
    {
      "cell_type": "code",
      "source": [],
      "metadata": {
        "id": "-kFY6T1EeK8y"
      },
      "execution_count": null,
      "outputs": []
    },
    {
      "cell_type": "markdown",
      "source": [
        "## Část 4: Diskuze\n",
        "\n",
        "Níže uveďte požadované údaje tak, jak jsou popsány v souboru se zadáním."
      ],
      "metadata": {
        "id": "v5Z6GIpwtdWS"
      }
    },
    {
      "cell_type": "code",
      "source": [],
      "metadata": {
        "id": "AHwvPCsqeMAb"
      },
      "execution_count": null,
      "outputs": []
    },
    {
      "cell_type": "markdown",
      "source": [
        "## (Část 5: Zpětná vazba)\n",
        "\n",
        "Zde můžete uvést zpětnou vazbu k projektu, feedbacku a supportu ze strany učitelů, co byste zlepšili, co bylo naopak fajn. Nic, co zde bude napsáno, nebude mít vliv na hodnocení projektu; pozitivní feedback vám body nepřidá, negativní neubere. Jak pozitivní, tak i negativní feedback ovšem udělá radost opravujícímu. :)"
      ],
      "metadata": {
        "id": "sVBdXUu6x97r"
      }
    }
  ]
}