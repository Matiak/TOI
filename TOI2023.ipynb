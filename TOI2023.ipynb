{
  "nbformat": 4,
  "nbformat_minor": 0,
  "metadata": {
    "colab": {
      "provenance": [],
      "toc_visible": true,
      "include_colab_link": true
    },
    "kernelspec": {
      "name": "python3",
      "display_name": "Python 3"
    },
    "language_info": {
      "name": "python"
    }
  },
  "cells": [
    {
      "cell_type": "markdown",
      "metadata": {
        "id": "view-in-github",
        "colab_type": "text"
      },
      "source": [
        "<a href=\"https://colab.research.google.com/github/Matiak/TOI/blob/main/TOI2023.ipynb\" target=\"_parent\"><img src=\"https://colab.research.google.com/assets/colab-badge.svg\" alt=\"Open In Colab\"/></a>"
      ]
    },
    {
      "cell_type": "code",
      "execution_count": null,
      "metadata": {
        "id": "fU6aTQMyFXS2"
      },
      "outputs": [],
      "source": [
        "# Druhy TOI projekt\n",
        "# Autor sablony: Jan Beran, 2023\n",
        "# Jmeno resitele/resitelky: Martin Babača\n",
        "# xlogin:   xbabac02\n",
        "\n",
        "\n",
        "# Zde si pripadne pridejte vlastni importy \n",
        "import pandas as pd\n",
        "import numpy as np\n",
        "import matplotlib.pyplot as plt\n",
        "import scipy.stats as stats # možná se vám bude hodit pro statistické testy\n"
      ]
    },
    {
      "cell_type": "code",
      "source": [
        "t_avg = pd.read_csv(\"http://janberan.tech/wp-content/uploads/2023/02/T_avg.csv\")\n",
        "t_min = pd.read_csv(\"http://janberan.tech/wp-content/uploads/2023/02/T_min.csv\")\n",
        "t_max = pd.read_csv(\"http://janberan.tech/wp-content/uploads/2023/02/T_max.csv\")\n",
        "rain = pd.read_csv(\"http://janberan.tech/wp-content/uploads/2023/02/rain.csv\")\n",
        "wind = pd.read_csv(\"http://janberan.tech/wp-content/uploads/2023/02/wind.csv\")\n",
        "air = pd.read_csv(\"http://janberan.tech/wp-content/uploads/2023/02/Kvalita_ovzdusi___Air_quality.csv\")\n",
        "\n",
        "# Pokud by začaly odkazy výše vykazovat problémy s dostupností:\n",
        "# 1) Stáhněte si zálohu dat z https://drive.google.com/drive/folders/12MjA3NTgHtssvzIPKFEEptwVTxOmhV1s?usp=sharing \n",
        "# 2) Nahrajte data do runtime\n",
        "# 3) Změňte odkazy výše na lokální cesty\n",
        "# 4) Opakujte pokaždé, když se resetuje runtime - otevření a zavření souboru atp.\n",
        "# 5) Dejte mi vědět a já soubory nahraju někam jinam, abyste je nemuseli pokaždé ručně nahrávat do runtime\n",
        "\n",
        "# Prostor pro váš kód"
      ],
      "metadata": {
        "id": "EC654PBePXMA"
      },
      "execution_count": null,
      "outputs": []
    },
    {
      "cell_type": "markdown",
      "source": [
        "#Část 1: Deskriptivní analýza\n",
        "\n",
        "Budete pracovat se soubory:\n",
        "* **T_avg.csv**: průměrná teplota v ˚C\n",
        "* **T_min.csv**: minimální teplota v ˚C\n",
        "* **T_max.csv**: maximální teplota v ˚C\n",
        "* **rain.csv**: úhrn srážek v mm\n",
        "* **wind.csv**: rychlost větru v m/s\n",
        "* **Kvalita_ovzduší___Air_quality.csv**: různá data, měřeno v µg/m³\n",
        "\n",
        "  **no2_1h** : Hodnota NO2 - oxidu dusičitého, updatováno každou hodinu\n",
        "\n",
        "  **pm10_1h**: Koncentrace polétavého prachu do 10um (pyl, standardní prach), updatováno jednou za hodinu\n",
        "  \n",
        "  **pm2_5_1h**: Koncentrace polétavého prachu do 2.5um (výfukové plyny, organické látky…) updatováno jednou za hodinu\n",
        "\n",
        "Ve všech souborech kromě posledního je vždy jen jeden údaj. V posledním (soubor **Kvalita_ovzduší___Air_quality.csv**, data v proměnné **air**) je údajů opravdu velké množství, vy se ovšem zaměřte na měření označená jako no2_1h, pm10_1h a pm2_5_1h. Dávejte si přitom pozor, abyste vyfiltrovali opravdu jen relevantní data (tedy pro stanici Brno-Tuřany). V ostatních datasetech jsou data pouze z této stanice. Celkem tedy budete mít k dispozici 8 datasetů.\n",
        "\n",
        "### Tabulka pro základní údaje o každém z osmi datasetů:\n",
        "Ke každé tabulce navíc uveďte, jak budete daná data upravovat.\n",
        "\n",
        "|Název charakteristiky | Hodnota\n",
        "|----------------------|--------\n",
        "|**Jméno datasetu**    |(např. \"průměrná teplota\" -- ta je uložena v souboru T_avg.csv)   \n",
        "|**Rozsah a četnost** | od kdy do kdy a jak často probíhala měření\n",
        "|**Maximum**           |\n",
        "|**Minimum**           | \n",
        "|**Aritmetický průměr**|\n",
        "|**Popis dat, co bude třeba upravit**         |Jsou data kompletní nebo některé hodnoty chybí? Jak bude třeba data upravit?\n",
        "\n",
        "### Prostor pro vaše hypotézy:\n",
        "Např: Domnívám se, že zde bude existovat vztah mezi datasety pm10_1h a pm2_5_1h, jelikož oba datasety určují množství polétavých částic. Pokud (např. v důsledku deště) poklesne hodnota jednoho údaje, měla by poklesnout i hodnota druhého údaje. "
      ],
      "metadata": {
        "id": "kni9LdYNFs9U"
      }
    },
    {
      "cell_type": "code",
      "source": [
        "print(\"t_avg\")\n",
        "tmp_df = pd.melt(t_avg,id_vars=['rok','měsíc'], var_name='deň',value_name='value')\n",
        "tmp_df = tmp_df.rename(columns={\"rok\": \"year\", \"měsíc\": \"month\",\"deň\":\"day\"})\n",
        "tmp_df['day'] = tmp_df['day'].astype(int)\n",
        "tmp_df['date'] = pd.to_datetime(tmp_df[['year','month','day']], errors='coerce')\n",
        "tmp_df = tmp_df[pd.notnull(tmp_df['date'])]\n",
        "print(tmp_df[['date']].sort_values('date', ascending = True).head(1))\n",
        "print(tmp_df[['date']].sort_values(['date'], ascending = [False]).head(1))\n",
        "print(tmp_df.loc[tmp_df.isna().any(axis=1)])\n",
        "print(tmp_df.dropna().describe().loc[['count','mean','min','max']])\n",
        "tmp_df['value'].plot.hist(bins=100)"
      ],
      "metadata": {
        "id": "0LPIeh8Fn3In",
        "outputId": "c32ade5f-66b0-4751-f34c-696640413d0c",
        "colab": {
          "base_uri": "https://localhost:8080/",
          "height": 743
        }
      },
      "execution_count": null,
      "outputs": [
        {
          "output_type": "stream",
          "name": "stdout",
          "text": [
            "t_avg\n",
            "        date\n",
            "0 1961-01-01\n",
            "            date\n",
            "23063 2022-12-31\n",
            "       year  month  day  value       date\n",
            "19335  2022      4   26    NaN 2022-04-26\n",
            "20079  2022      4   27    NaN 2022-04-27\n",
            "20823  2022      4   28    NaN 2022-04-28\n",
            "21567  2022      4   29    NaN 2022-04-29\n",
            "22311  2022      4   30    NaN 2022-04-30\n",
            "23056  2022      5   31    NaN 2022-05-31\n",
            "               year         month          day         value\n",
            "count  22639.000000  22639.000000  22639.00000  22639.000000\n",
            "mean    1991.492248      6.523654     15.72596      9.402343\n",
            "min     1961.000000      1.000000      1.00000    -19.900000\n",
            "max     2022.000000     12.000000     31.00000     30.800000\n"
          ]
        },
        {
          "output_type": "execute_result",
          "data": {
            "text/plain": [
              "<Axes: ylabel='Frequency'>"
            ]
          },
          "metadata": {},
          "execution_count": 3
        },
        {
          "output_type": "display_data",
          "data": {
            "text/plain": [
              "<Figure size 640x480 with 1 Axes>"
            ],
            "image/png": "[encoded data removed]"
          },
          "metadata": {}
        }
      ]
    },
    {
      "cell_type": "markdown",
      "source": [
        "### Dataset t_avg\n",
        "\n",
        "|Názov charakteristiky | Hodnota\n",
        "|----------------------|--------\n",
        "| **Jméno datasetu**    | priemerná denná teplota \\[˚C\\]\n",
        "|**Rozsah a četnost** | merané od 1. 1. 1961 do 31. 12. 2022, hodnota raz denne\n",
        "|**Maximum**           | 30.8 ˚C\n",
        "|**Minimum**           | -19.9 ˚C\n",
        "|**Aritmetický průměr**| 9.402343 ˚C\n",
        "|**Popis dat, co bude třeba upravit**         | Dáta sú rozdelené do 31 stĺpcov zodpovedajúcich dňom v mesiaci.<br>Je nutné tieto dáta trasformovať do jeného stĺpca a vytvoriť jeden stĺpec zodpovedajúci dátumu.<br>Ďalej odstránime neplatné dátumy a zostane 6 dátumov bez hodnoty.<br>Presnejšie chýbajú hodnoty pre interval 26-30.4.2022 a pre deň 31.5.2022.<br>Interval od poslednej známej, cez chýbajúce hodnoty po prvú známu hodnotu aproximujeme lineárnou funkciou. Teda osamotenú chýbajúcu hodnotu nahradíme priemerom okolitých známych hodnôt. Pre interval neznámych hodnôt platí, že priemer doplnených hodnôt je priemerom okolitých známych hodnôt a rozdiel medzi susednými hodnotami je konštantný."
      ],
      "metadata": {
        "id": "eP6_P8GHEc_8"
      }
    },
    {
      "cell_type": "code",
      "source": [
        "print(\"t_min\")\n",
        "tmp_df = pd.melt(t_avg,id_vars=['rok','měsíc'], var_name='deň',value_name='value')\n",
        "tmp_df = tmp_df.rename(columns={\"rok\": \"year\", \"měsíc\": \"month\",\"deň\":\"day\"})\n",
        "tmp_df['day'] = tmp_df['day'].astype(int)\n",
        "tmp_df['date'] = pd.to_datetime(tmp_df[['year','month','day']], errors='coerce')\n",
        "tmp_df = tmp_df[pd.notnull(tmp_df['date'])]\n",
        "print(tmp_df[['date']].sort_values('date', ascending = True).head(1))\n",
        "print(tmp_df[['date']].sort_values(['date'], ascending = [False]).head(1))\n",
        "print(tmp_df.loc[tmp_df.isna().any(axis=1)])\n",
        "print(tmp_df.dropna().describe().loc[['count','mean','min','max']])\n",
        "tmp_df['value'].plot.hist(bins=100)"
      ],
      "metadata": {
        "id": "XcjCFRqtDDdr",
        "outputId": "b46f4225-6958-4d5b-ba62-b578bc3f15a7",
        "colab": {
          "base_uri": "https://localhost:8080/",
          "height": 743
        }
      },
      "execution_count": null,
      "outputs": [
        {
          "output_type": "stream",
          "name": "stdout",
          "text": [
            "t_min\n",
            "        date\n",
            "0 1961-01-01\n",
            "            date\n",
            "23063 2022-12-31\n",
            "       year  month  day  value       date\n",
            "19335  2022      4   26    NaN 2022-04-26\n",
            "20079  2022      4   27    NaN 2022-04-27\n",
            "20823  2022      4   28    NaN 2022-04-28\n",
            "21567  2022      4   29    NaN 2022-04-29\n",
            "22311  2022      4   30    NaN 2022-04-30\n",
            "23056  2022      5   31    NaN 2022-05-31\n",
            "               year         month          day         value\n",
            "count  22639.000000  22639.000000  22639.00000  22639.000000\n",
            "mean    1991.492248      6.523654     15.72596      9.402343\n",
            "min     1961.000000      1.000000      1.00000    -19.900000\n",
            "max     2022.000000     12.000000     31.00000     30.800000\n"
          ]
        },
        {
          "output_type": "execute_result",
          "data": {
            "text/plain": [
              "<Axes: ylabel='Frequency'>"
            ]
          },
          "metadata": {},
          "execution_count": 4
        },
        {
          "output_type": "display_data",
          "data": {
            "text/plain": [
              "<Figure size 640x480 with 1 Axes>"
            ],
            "image/png": "[encoded data removed]"
          },
          "metadata": {}
        }
      ]
    },
    {
      "cell_type": "markdown",
      "source": [
        "### Dataset t_min\n",
        "\n",
        "|Názov charakteristiky | Hodnota\n",
        "|----------------------|--------\n",
        "| **Jméno datasetu**    | minimálna denná teplota \\[˚C\\]\n",
        "|**Rozsah a četnost** | merané od 1. 1. 1961 do 31. 12. 2022, hodnota raz denne\n",
        "|**Maximum**           | 24.2 ˚C\n",
        "|**Minimum**           | -24.1 ˚C\n",
        "|**Aritmetický průměr**| 5.027042 ˚C\n",
        "|**Popis dat, co bude třeba upravit**         | Dáta sú rozdelené do 31 stĺpcov zodpovedajúcich dňom v mesiaci.<br>Je nutné tieto dáta trasformovať do jeného stĺpca a vytvoriť jeden stĺpec zodpovedajúci dátumu.<br>Ďalej odstránime neplatné dátumy a zostane 6 dátumov bez hodnoty.<br>Presnejšie chýbajú hodnoty pre interval 26-30.4.2022 a pre deň 31.5.2022.<br>Interval od poslednej známej, cez chýbajúce hodnoty po prvú známu hodnotu aproximujeme lineárnou funkciou. Teda osamotenú chýbajúcu hodnotu nahradíme priemerom okolitých známych hodnôt. Pre interval neznámych hodnôt platí, že priemer doplnených hodnôt je priemerom okolitých známych hodnôt a rozdiel medzi susednými hodnotami je konštantný."
      ],
      "metadata": {
        "id": "Pf6aEzGPTnAq"
      }
    },
    {
      "cell_type": "code",
      "source": [
        "print(\"t_max\")\n",
        "tmp_df = pd.melt(t_avg,id_vars=['rok','měsíc'], var_name='deň',value_name='value')\n",
        "tmp_df = tmp_df.rename(columns={\"rok\": \"year\", \"měsíc\": \"month\",\"deň\":\"day\"})\n",
        "tmp_df['day'] = tmp_df['day'].astype(int)\n",
        "tmp_df['date'] = pd.to_datetime(tmp_df[['year','month','day']], errors='coerce')\n",
        "tmp_df = tmp_df[pd.notnull(tmp_df['date'])]\n",
        "print(tmp_df[['date']].sort_values('date', ascending = True).head(1))\n",
        "print(tmp_df[['date']].sort_values(['date'], ascending = [False]).head(1))\n",
        "print(tmp_df.loc[tmp_df.isna().any(axis=1)])\n",
        "print(tmp_df.dropna().describe().loc[['count','mean','min','max']])\n",
        "tmp_df['value'].plot.hist(bins=100)"
      ],
      "metadata": {
        "id": "SgONte46DFes",
        "outputId": "cd90533e-be80-41d0-f9f6-43a74daea591",
        "colab": {
          "base_uri": "https://localhost:8080/",
          "height": 743
        }
      },
      "execution_count": null,
      "outputs": [
        {
          "output_type": "stream",
          "name": "stdout",
          "text": [
            "t_max\n",
            "        date\n",
            "0 1961-01-01\n",
            "            date\n",
            "23063 2022-12-31\n",
            "       year  month  day  value       date\n",
            "19335  2022      4   26    NaN 2022-04-26\n",
            "20079  2022      4   27    NaN 2022-04-27\n",
            "20823  2022      4   28    NaN 2022-04-28\n",
            "21567  2022      4   29    NaN 2022-04-29\n",
            "22311  2022      4   30    NaN 2022-04-30\n",
            "23056  2022      5   31    NaN 2022-05-31\n",
            "               year         month          day         value\n",
            "count  22639.000000  22639.000000  22639.00000  22639.000000\n",
            "mean    1991.492248      6.523654     15.72596      9.402343\n",
            "min     1961.000000      1.000000      1.00000    -19.900000\n",
            "max     2022.000000     12.000000     31.00000     30.800000\n"
          ]
        },
        {
          "output_type": "execute_result",
          "data": {
            "text/plain": [
              "<Axes: ylabel='Frequency'>"
            ]
          },
          "metadata": {},
          "execution_count": 5
        },
        {
          "output_type": "display_data",
          "data": {
            "text/plain": [
              "<Figure size 640x480 with 1 Axes>"
            ],
            "image/png": "[encoded data removed]"
          },
          "metadata": {}
        }
      ]
    },
    {
      "cell_type": "markdown",
      "source": [
        "### Dataset t_max\n",
        "\n",
        "|Názov charakteristiky | Hodnota\n",
        "|----------------------|--------\n",
        "| **Jméno datasetu**    | maximálna denná teplota \\[˚C\\]\n",
        "|**Rozsah a četnost** | merané od 1. 1. 1961 do 31. 12. 2022, hodnota raz denne\n",
        "|**Maximum**           | 37.8 ˚C\n",
        "|**Minimum**           | -16.7 ˚C\n",
        "|**Aritmetický průměr**| 13.924131 ˚C\n",
        "|**Popis dat, co bude třeba upravit**         | Dáta sú rozdelené do 31 stĺpcov zodpovedajúcich dňom v mesiaci.<br>Je nutné tieto dáta trasformovať do jeného stĺpca a vytvoriť jeden stĺpec zodpovedajúci dátumu.<br>Ďalej odstránime neplatné dátumy a zostane 6 dátumov bez hodnoty.<br>Presnejšie chýbajú hodnoty pre interval 26-30.4.2022 a pre deň 31.5.2022.<br>Interval od poslednej známej, cez chýbajúce hodnoty po prvú známu hodnotu aproximujeme lineárnou funkciou. Teda osamotenú chýbajúcu hodnotu nahradíme priemerom okolitých známych hodnôt. Pre interval neznámych hodnôt platí, že priemer doplnených hodnôt je priemerom okolitých známych hodnôt a rozdiel medzi susednými hodnotami je konštantný."
      ],
      "metadata": {
        "id": "9Tk0VWr9UTMc"
      }
    },
    {
      "cell_type": "code",
      "source": [
        "print(\"rain\")\n",
        "tmp_df = pd.melt(rain,id_vars=['rok','měsíc'], var_name='deň',value_name='value')\n",
        "tmp_df = tmp_df.rename(columns={\"rok\": \"year\", \"měsíc\": \"month\",\"deň\":\"day\"})\n",
        "tmp_df['day'] = tmp_df['day'].astype(int)\n",
        "tmp_df['date'] = pd.to_datetime(tmp_df[['year','month','day']], errors='coerce')\n",
        "tmp_df = tmp_df[pd.notnull(tmp_df['date'])]\n",
        "print(tmp_df[['date']].sort_values('date', ascending = True).head(1))\n",
        "print(tmp_df[['date']].sort_values(['date'], ascending = [False]).head(1))\n",
        "print(tmp_df.loc[tmp_df.isna().any(axis=1)])\n",
        "print(tmp_df.dropna().describe().loc[['count','mean','min','max']])\n",
        "tmp_df['value'].plot.hist(bins=100)"
      ],
      "metadata": {
        "id": "LKsrPL57DHil",
        "outputId": "05bef3b4-7dc4-4859-8ddc-1087f83ac3b4",
        "colab": {
          "base_uri": "https://localhost:8080/",
          "height": 760
        }
      },
      "execution_count": null,
      "outputs": [
        {
          "output_type": "stream",
          "name": "stdout",
          "text": [
            "rain\n",
            "        date\n",
            "0 1961-01-01\n",
            "            date\n",
            "23063 2022-12-31\n",
            "       year  month  day  value       date\n",
            "19335  2022      4   26    NaN 2022-04-26\n",
            "20079  2022      4   27    NaN 2022-04-27\n",
            "20821  2022      2   28    NaN 2022-02-28\n",
            "20823  2022      4   28    NaN 2022-04-28\n",
            "21567  2022      4   29    NaN 2022-04-29\n",
            "22311  2022      4   30    NaN 2022-04-30\n",
            "23056  2022      5   31    NaN 2022-05-31\n",
            "             year         month           day         value\n",
            "count  22638.0000  22638.000000  22638.000000  22638.000000\n",
            "mean    1991.4909      6.523854     15.725417      1.373059\n",
            "min     1961.0000      1.000000      1.000000      0.000000\n",
            "max     2022.0000     12.000000     31.000000     82.100000\n"
          ]
        },
        {
          "output_type": "execute_result",
          "data": {
            "text/plain": [
              "<Axes: ylabel='Frequency'>"
            ]
          },
          "metadata": {},
          "execution_count": 6
        },
        {
          "output_type": "display_data",
          "data": {
            "text/plain": [
              "<Figure size 640x480 with 1 Axes>"
            ],
            "image/png": "[encoded data removed]"
          },
          "metadata": {}
        }
      ]
    },
    {
      "cell_type": "markdown",
      "source": [
        "### Dataset rain\n",
        "\n",
        "|Názov charakteristiky | Hodnota\n",
        "|----------------------|--------\n",
        "| **Jméno datasetu**    | úhrn zrážok \\[mm\\]\n",
        "|**Rozsah a četnost** | merané od 1. 1. 1961 do 31. 12. 2022, hodnota raz denne\n",
        "|**Maximum**           | 82.1 ˚C\n",
        "|**Minimum**           | 0.0 ˚C\n",
        "|**Aritmetický průměr**| 1.373059 ˚C\n",
        "|**Popis dat, co bude třeba upravit**         | Dáta sú rozdelené do 31 stĺpcov zodpovedajúcich dňom v mesiaci.<br>Je nutné tieto dáta trasformovať do jeného stĺpca a vytvoriť jeden stĺpec zodpovedajúci dátumu.<br>Ďalej odstránime neplatné dátumy a zostane 7 dátumov bez hodnoty.<br>Presnejšie chýbajú hodnoty pre interval 26-30.4.2022 a pre dni 28.2.2022 a 31.5.2022.<br>Interval od poslednej známej, cez chýbajúce hodnoty po prvú známu hodnotu aproximujeme lineárnou funkciou. Teda osamotenú chýbajúcu hodnotu nahradíme priemerom okolitých známych hodnôt. Pre interval neznámych hodnôt platí, že priemer doplnených hodnôt je priemerom okolitých známych hodnôt a rozdiel medzi susednými hodnotami je konštantný."
      ],
      "metadata": {
        "id": "YlZvq5_8U4ev"
      }
    },
    {
      "cell_type": "code",
      "source": [
        "print(\"wind\")\n",
        "tmp_df = pd.melt(rain,id_vars=['rok','měsíc'], var_name='deň',value_name='value')\n",
        "tmp_df = tmp_df.rename(columns={\"rok\": \"year\", \"měsíc\": \"month\",\"deň\":\"day\"})\n",
        "tmp_df['day'] = tmp_df['day'].astype(int)\n",
        "tmp_df['date'] = pd.to_datetime(tmp_df[['year','month','day']], errors='coerce')\n",
        "tmp_df = tmp_df[pd.notnull(tmp_df['date'])]\n",
        "print(tmp_df[['date']].sort_values('date', ascending = True).head(1))\n",
        "print(tmp_df[['date']].sort_values(['date'], ascending = [False]).head(1))\n",
        "print(tmp_df.loc[tmp_df.isna().any(axis=1)])\n",
        "print(tmp_df.dropna().describe().loc[['count','mean','min','max']])\n",
        "tmp_df['value'].plot.hist(bins=100)"
      ],
      "metadata": {
        "id": "Pq887B0EWEYH",
        "outputId": "4f81fe1f-e604-4d3f-f7fc-3881d2f865b8",
        "colab": {
          "base_uri": "https://localhost:8080/",
          "height": 760
        }
      },
      "execution_count": null,
      "outputs": [
        {
          "output_type": "stream",
          "name": "stdout",
          "text": [
            "wind\n",
            "        date\n",
            "0 1961-01-01\n",
            "            date\n",
            "23063 2022-12-31\n",
            "       year  month  day  value       date\n",
            "19335  2022      4   26    NaN 2022-04-26\n",
            "20079  2022      4   27    NaN 2022-04-27\n",
            "20821  2022      2   28    NaN 2022-02-28\n",
            "20823  2022      4   28    NaN 2022-04-28\n",
            "21567  2022      4   29    NaN 2022-04-29\n",
            "22311  2022      4   30    NaN 2022-04-30\n",
            "23056  2022      5   31    NaN 2022-05-31\n",
            "             year         month           day         value\n",
            "count  22638.0000  22638.000000  22638.000000  22638.000000\n",
            "mean    1991.4909      6.523854     15.725417      1.373059\n",
            "min     1961.0000      1.000000      1.000000      0.000000\n",
            "max     2022.0000     12.000000     31.000000     82.100000\n"
          ]
        },
        {
          "output_type": "execute_result",
          "data": {
            "text/plain": [
              "<Axes: ylabel='Frequency'>"
            ]
          },
          "metadata": {},
          "execution_count": 7
        },
        {
          "output_type": "display_data",
          "data": {
            "text/plain": [
              "<Figure size 640x480 with 1 Axes>"
            ],
            "image/png": "[encoded data removed]"
          },
          "metadata": {}
        }
      ]
    },
    {
      "cell_type": "markdown",
      "source": [
        "### Dataset wind\n",
        "\n",
        "|Názov charakteristiky | Hodnota\n",
        "|----------------------|--------\n",
        "| **Jméno datasetu**    | rýchlosť vetra \\[m/s\\]\n",
        "|**Rozsah a četnost** | merané od 1. 1. 1961 do 31. 12. 2022, hodnota raz denne\n",
        "|**Maximum**           | 17.3 ˚C\n",
        "|**Minimum**           | 0.0 ˚C\n",
        "|**Aritmetický průměr**| 3.472193 ˚C\n",
        "|**Popis dat, co bude třeba upravit**         | Dáta sú rozdelené do 31 stĺpcov zodpovedajúcich dňom v mesiaci.<br>Je nutné tieto dáta trasformovať do jeného stĺpca a vytvoriť jeden stĺpec zodpovedajúci dátumu.<br>Ďalej odstránime neplatné dátumy a zostane 7 dátumov bez hodnoty.<br>Presnejšie chýbajú hodnoty pre interval 26-30.4.2022 a pre dni 30.8.2019 a 31.5.2022.<br>Interval od poslednej známej, cez chýbajúce hodnoty po prvú známu hodnotu aproximujeme lineárnou funkciou. Teda osamotenú chýbajúcu hodnotu nahradíme priemerom okolitých známych hodnôt. Pre interval neznámych hodnôt platí, že priemer doplnených hodnôt je priemerom okolitých známych hodnôt a rozdiel medzi susednými hodnotami je konštantný."
      ],
      "metadata": {
        "id": "hdha-eEOWE7H"
      }
    },
    {
      "cell_type": "code",
      "source": [
        "print(\"air\")\n",
        "#print(air.head())\n",
        "tmp_df = air[air['name']=='Brno-Tuřany']\n",
        "del tmp_df['X']\n",
        "del tmp_df['Y']\n",
        "del tmp_df['lat']\n",
        "del tmp_df['lon']\n",
        "del tmp_df['so2_1h']\n",
        "del tmp_df['co_8h']\n",
        "del tmp_df['pm10_24h']\n",
        "del tmp_df['o3_1h']\n",
        "print(\"no2_1h\")\n",
        "print(tmp_df[tmp_df['no2_1h'].isna()])\n",
        "print(\"pm10_1h\")\n",
        "print(tmp_df[tmp_df['pm10_1h'].isna()])\n",
        "print(\"pm2_5_1h\")\n",
        "print(tmp_df[tmp_df['pm2_5_1h'].isna()])\n",
        "print(\"no2_1h && pm10_1h\")\n",
        "print(tmp_df[tmp_df[['no2_1h','pm10_1h']].isna().all(axis=1)])\n",
        "print(\"summary\")\n",
        "print(tmp_df.describe())\n",
        "#tmp_df['no2_1h'].plot.hist(bins=100)\n",
        "#tmp_df['pm10_1h'].plot.hist(bins=100)\n",
        "tmp_df['pm2_5_1h'].plot.hist(bins=100)\n",
        "print(tmp_df[['actualized']].sort_values('actualized', ascending = True).head(1))\n",
        "print(tmp_df[['actualized']].sort_values(['actualized'], ascending = [False]).head(1))"
      ],
      "metadata": {
        "id": "KoVj8ERiXUq2",
        "outputId": "0a2f0adf-3bcf-4602-8010-5bd9cc73bf3e",
        "colab": {
          "base_uri": "https://localhost:8080/",
          "height": 1000
        }
      },
      "execution_count": null,
      "outputs": [
        {
          "output_type": "stream",
          "name": "stdout",
          "text": [
            "air\n",
            "no2_1h\n",
            "       objectid   code         name owner              actualized  no2_1h  \\\n",
            "29        51592  BBNYA  Brno-Tuřany  ČHMÚ  2022/02/09 15:37:45+00     NaN   \n",
            "126       51689  BBNYA  Brno-Tuřany  ČHMÚ  2022/02/10 01:37:48+00     NaN   \n",
            "154       51717  BBNYA  Brno-Tuřany  ČHMÚ  2022/02/10 04:37:51+00     NaN   \n",
            "249       51812  BBNYA  Brno-Tuřany  ČHMÚ  2022/02/10 13:37:57+00     NaN   \n",
            "474       52037  BBNYA  Brno-Tuřany  ČHMÚ  2022/02/11 12:38:11+00     NaN   \n",
            "...         ...    ...          ...   ...                     ...     ...   \n",
            "67323    118886  BBNYA  Brno-Tuřany  ČHMÚ  2023/02/05 23:43:25+00     NaN   \n",
            "67537    119100  BBNYA  Brno-Tuřany  ČHMÚ  2023/02/06 22:43:27+00     NaN   \n",
            "67729    119292  BBNYA  Brno-Tuřany  ČHMÚ  2023/02/07 21:43:29+00     NaN   \n",
            "67927    119490  BBNYA  Brno-Tuřany  ČHMÚ  2023/02/08 20:43:56+00     NaN   \n",
            "68040    119603  BBNYA  Brno-Tuřany  ČHMÚ  2023/02/09 12:43:56+00     NaN   \n",
            "\n",
            "       pm10_1h  pm2_5_1h                                globalid  \n",
            "29         5.0       3.0  {BE17D5A2-E257-408B-85BB-268106C41B0E}  \n",
            "126        NaN       0.0  {3F668BDA-20CE-47F7-91F4-FEAF0965D572}  \n",
            "154        NaN       0.0  {10FAE63E-3D46-44E6-B74A-BEED357CB0F4}  \n",
            "249       12.0      12.0  {063FC740-D5D7-4D92-806D-C47091409653}  \n",
            "474       17.0       8.0  {812DEB40-1232-4675-81B5-BEACD20E045D}  \n",
            "...        ...       ...                                     ...  \n",
            "67323     14.2       6.6  {EB40BBF3-AFC8-4965-818D-A6E28F326B09}  \n",
            "67537     32.6      28.7  {79AECE16-8FF8-4153-B6AD-B519CF76F7CF}  \n",
            "67729     23.3      26.2  {3CD0CEAA-F000-477B-935D-9654C9FE2A69}  \n",
            "67927     16.0       8.5  {6589D722-34CF-4EF8-9932-0F8A259444A0}  \n",
            "68040      NaN       0.0  {86974684-4CE9-4514-92FD-A8E65CA859BC}  \n",
            "\n",
            "[1421 rows x 9 columns]\n",
            "pm10_1h\n",
            "       objectid   code         name owner              actualized  no2_1h  \\\n",
            "126       51689  BBNYA  Brno-Tuřany  ČHMÚ  2022/02/10 01:37:48+00     NaN   \n",
            "154       51717  BBNYA  Brno-Tuřany  ČHMÚ  2022/02/10 04:37:51+00     NaN   \n",
            "831       52394  BBNYA  Brno-Tuřany  ČHMÚ  2022/02/13 00:38:30+00     NaN   \n",
            "856       52419  BBNYA  Brno-Tuřany  ČHMÚ  2022/02/13 02:38:30+00     NaN   \n",
            "866       52429  BBNYA  Brno-Tuřany  ČHMÚ  2022/02/13 03:38:30+00     NaN   \n",
            "...         ...    ...          ...   ...                     ...     ...   \n",
            "60148    111711  BBNYA  Brno-Tuřany  ČHMÚ  2023/01/03 15:38:38+00     NaN   \n",
            "60195    111758  BBNYA  Brno-Tuřany  ČHMÚ  2023/01/03 20:38:38+00     NaN   \n",
            "60218    111781  BBNYA  Brno-Tuřany  ČHMÚ  2023/01/03 22:38:39+00     NaN   \n",
            "60242    111805  BBNYA  Brno-Tuřany  ČHMÚ  2023/01/04 02:38:38+00     NaN   \n",
            "68040    119603  BBNYA  Brno-Tuřany  ČHMÚ  2023/02/09 12:43:56+00     NaN   \n",
            "\n",
            "       pm10_1h  pm2_5_1h                                globalid  \n",
            "126        NaN       0.0  {3F668BDA-20CE-47F7-91F4-FEAF0965D572}  \n",
            "154        NaN       0.0  {10FAE63E-3D46-44E6-B74A-BEED357CB0F4}  \n",
            "831        NaN       0.0  {878403BB-6106-4542-9138-F802424B29D6}  \n",
            "856        NaN       0.0  {50DE9519-D544-4709-A862-2CE0A19142F1}  \n",
            "866        NaN       0.0  {9789A2E2-7F26-4ACC-A551-A5CE2F65CF80}  \n",
            "...        ...       ...                                     ...  \n",
            "60148      NaN       0.0  {0AB6C698-14D0-449C-AEE4-F12B15EA97A2}  \n",
            "60195      NaN       0.0  {31051584-E0EA-4EC2-9D59-E12C206C4E4E}  \n",
            "60218      NaN       0.0  {EED89312-A570-4BD4-B5D3-0E66047B20E1}  \n",
            "60242      NaN       0.0  {4D8FB7E7-E190-4AD8-9486-67CAE843514B}  \n",
            "68040      NaN       0.0  {86974684-4CE9-4514-92FD-A8E65CA859BC}  \n",
            "\n",
            "[1149 rows x 9 columns]\n",
            "pm2_5_1h\n",
            "Empty DataFrame\n",
            "Columns: [objectid, code, name, owner, actualized, no2_1h, pm10_1h, pm2_5_1h, globalid]\n",
            "Index: []\n",
            "no2_1h && pm10_1h\n",
            "       objectid   code         name owner              actualized  no2_1h  \\\n",
            "126       51689  BBNYA  Brno-Tuřany  ČHMÚ  2022/02/10 01:37:48+00     NaN   \n",
            "154       51717  BBNYA  Brno-Tuřany  ČHMÚ  2022/02/10 04:37:51+00     NaN   \n",
            "831       52394  BBNYA  Brno-Tuřany  ČHMÚ  2022/02/13 00:38:30+00     NaN   \n",
            "856       52419  BBNYA  Brno-Tuřany  ČHMÚ  2022/02/13 02:38:30+00     NaN   \n",
            "866       52429  BBNYA  Brno-Tuřany  ČHMÚ  2022/02/13 03:38:30+00     NaN   \n",
            "...         ...    ...          ...   ...                     ...     ...   \n",
            "60148    111711  BBNYA  Brno-Tuřany  ČHMÚ  2023/01/03 15:38:38+00     NaN   \n",
            "60195    111758  BBNYA  Brno-Tuřany  ČHMÚ  2023/01/03 20:38:38+00     NaN   \n",
            "60218    111781  BBNYA  Brno-Tuřany  ČHMÚ  2023/01/03 22:38:39+00     NaN   \n",
            "60242    111805  BBNYA  Brno-Tuřany  ČHMÚ  2023/01/04 02:38:38+00     NaN   \n",
            "68040    119603  BBNYA  Brno-Tuřany  ČHMÚ  2023/02/09 12:43:56+00     NaN   \n",
            "\n",
            "       pm10_1h  pm2_5_1h                                globalid  \n",
            "126        NaN       0.0  {3F668BDA-20CE-47F7-91F4-FEAF0965D572}  \n",
            "154        NaN       0.0  {10FAE63E-3D46-44E6-B74A-BEED357CB0F4}  \n",
            "831        NaN       0.0  {878403BB-6106-4542-9138-F802424B29D6}  \n",
            "856        NaN       0.0  {50DE9519-D544-4709-A862-2CE0A19142F1}  \n",
            "866        NaN       0.0  {9789A2E2-7F26-4ACC-A551-A5CE2F65CF80}  \n",
            "...        ...       ...                                     ...  \n",
            "60148      NaN       0.0  {0AB6C698-14D0-449C-AEE4-F12B15EA97A2}  \n",
            "60195      NaN       0.0  {31051584-E0EA-4EC2-9D59-E12C206C4E4E}  \n",
            "60218      NaN       0.0  {EED89312-A570-4BD4-B5D3-0E66047B20E1}  \n",
            "60242      NaN       0.0  {4D8FB7E7-E190-4AD8-9486-67CAE843514B}  \n",
            "68040      NaN       0.0  {86974684-4CE9-4514-92FD-A8E65CA859BC}  \n",
            "\n",
            "[1146 rows x 9 columns]\n",
            "summary\n",
            "            objectid       no2_1h      pm10_1h     pm2_5_1h\n",
            "count    6804.000000  5383.000000  5655.000000  6804.000000\n",
            "mean    85584.680188    13.054245    17.488028    11.255967\n",
            "std     19645.012990    10.336450    13.025202    10.781026\n",
            "min     51564.000000     1.000000     1.000000     0.000000\n",
            "25%     68578.000000     5.400000     9.000000     3.000000\n",
            "50%     85586.000000     9.800000    15.000000     9.000000\n",
            "75%    102590.500000    17.800000    23.000000    17.000000\n",
            "max    119618.000000    75.800000   331.000000   109.000000\n",
            "               actualized\n",
            "1  2022/02/09 13:37:45+00\n",
            "                   actualized\n",
            "68055  2023/02/09 13:43:57+00\n"
          ]
        },
        {
          "output_type": "display_data",
          "data": {
            "text/plain": [
              "<Figure size 640x480 with 1 Axes>"
            ],
            "image/png": "[encoded data removed]"
          },
          "metadata": {}
        }
      ]
    },
    {
      "cell_type": "markdown",
      "source": [
        "## Dataset Kvalita_ovzduší___Air_quality.csv\n",
        "### Dataset no2_1h\n",
        "\n",
        "|Názov charakteristiky | Hodnota\n",
        "|----------------------|--------\n",
        "| **Jméno datasetu**    | Hodnota NO2\n",
        "|**Rozsah a četnost** | merané od 9. 2. 2022 do 9. 2. 2023, hodnota raz za hodinu\n",
        "|**Maximum**           | 75.8\n",
        "|**Minimum**           | 1.0\n",
        "|**Aritmetický průměr**| 13.054245\n",
        "|**Popis dat, co bude třeba upravit**         | Dáta musia byť vytriedené len pre miesto Brno-Tuřany.<br>Dáta sú zaznamenávané po hodine a je nutné ich agregovať na jednu hodnotu denne aby bolo možné použiť ich v kombinácií s ostanými datasetmi.<br> Chýba 1421 záznamov, z čoho 1146 záznamov postráda aj údaj pm10_1h. Chýbajúce hodnoty môžu byť nahradené priemerom najbližsej platnej straršej a mladšej hodnoty.\n",
        "\n",
        "### Dataset pm10_1h\n",
        "\n",
        "|Názov charakteristiky | Hodnota\n",
        "|----------------------|--------\n",
        "| **Jméno datasetu**    | Koncentrácia polietavého prachu do 10um (peľ, štandardný prach)\n",
        "|**Rozsah a četnost** | merané od 9. 2. 2022 do 9. 2. 2023, hodnota raz za hodinu\n",
        "|**Maximum**           | 331.0\n",
        "|**Minimum**           | 1.0\n",
        "|**Aritmetický průměr**| 17.488028\n",
        "|**Popis dat, co bude třeba upravit**         | Dáta musia byť vytriedené len pre miesto Brno-Tuřany.<br>Dáta sú zaznamenávané po hodine a je nutné ich agregovať na jednu hodnotu denne aby bolo možné použiť ich v kombinácií s ostanými datasetmi.<br> Chýba 1149 záznamov, z čoho 1146 záznamov postráda aj údaj no2_1h. Chýbajúce hodnoty môžu byť nahradené priemerom najbližsej platnej straršej a mladšej hodnoty.\n",
        "\n",
        "### Dataset pm2_5_1h\n",
        "\n",
        "|Názov charakteristiky | Hodnota\n",
        "|----------------------|--------\n",
        "| **Jméno datasetu**    | Koncentrácia polietavého prachu do 2.5um (výfukové plyny, organické látky …)\n",
        "|**Rozsah a četnost** | merané od 9. 2. 2022 do 9. 2. 2023, hodnota raz za hodinu\n",
        "|**Maximum**           | 109.0\n",
        "|**Minimum**           | 0.0\n",
        "|**Aritmetický průměr**| 11.255967\n",
        "|**Popis dat, co bude třeba upravit**         | Dáta musia byť vytriedené len pre miesto Brno-Tuřany.<br>Dáta sú zaznamenávané po hodine a je nutné ich agregovať na jednu hodnotu denne aby bolo možné použiť ich v kombinácií s ostanými datasetmi.<br>Nenašli sa žiadne chýbajúce hodnoty ale pravdepodobné, že údaj 0.0 nie je validný, preto bude považovaný za chýbajúcu hodnotu."
      ],
      "metadata": {
        "id": "prvdoQntXVMs"
      }
    },
    {
      "cell_type": "markdown",
      "source": [
        "## Hypotézy:\n",
        "\"Minimálna teplota je nepriamo závislá na rýchlosti vetra.\"<br>\n",
        "Ak fúka vietor, potom býva chladnejšie.\n",
        "<br><br>\n",
        "\"Množstvo zrážok je nepriamo závislé na teplote.\"<br>\n",
        "Ak prší je zamračené, teda nesvieti slnko a je teda chladnejšie.\n",
        "<br><br>\n",
        "\"Rýchlosť vetra je priamo závislá na množstve zrážok.\"<br>\n",
        "Zrážky sú spojené s vetrom.\n",
        "<br><br>\n",
        "\"Priemerná teplota je závislá na maximálnej teplote.\"<br>\n",
        "Asi nie je potrebný žiaden komentár. Hypotéza je formulovaná ako ukážka hypotézy s jasnou silnou závislosťou."
      ],
      "metadata": {
        "id": "aTw9nZlfyllY"
      }
    },
    {
      "cell_type": "markdown",
      "source": [
        "# Část 2: Příprava dat\n",
        "\n",
        "V této části realizujete úpravu dat, kterou jste si navrhli v předchozí části. Detailní zadání je k dispozici v souboru se zadáním. Pracujte efektivně, využívejte, co vám Python a  jeho knihovny nabízejí.\n",
        "\n",
        "Nezapomeňte zodpovědět otázky ze zadání: Jak jste doplňovali chybějící data, jaký rozsah a četnost jste zvolili a jak jste data upravili. "
      ],
      "metadata": {
        "id": "QJPy57zPPUBK"
      }
    },
    {
      "cell_type": "code",
      "source": [
        "ins = [t_avg,t_min,t_max,rain,wind]\n",
        "# new dataframes\n",
        "dfs = [[],[],[],[],[]]\n",
        "df_air = []\n",
        "# same conversions for datasets average, max, min temperatur, wind speed and amount of rain\n",
        "# 1. create columns day and value\n",
        "# 2. rename columns rok, měsíc to year, month\n",
        "# 3. create column date\n",
        "# 4. remove unnecessary columns\n",
        "# 5. set index to date\n",
        "# 6. interpolation of empty values\n",
        "# 7. trim datasets to interval \n",
        "for i in range(5):\n",
        "  dfs[i] = pd.melt(ins[i],id_vars=['rok','měsíc'], var_name='deň',value_name='value')\n",
        "  dfs[i] = dfs[i].rename(columns={\"rok\": \"year\", \"měsíc\": \"month\",\"deň\":\"day\"})\n",
        "  dfs[i]['date'] = pd.to_datetime(dfs[i][['year','month','day']], errors='coerce')\n",
        "  dfs[i] = dfs[i][pd.notnull(dfs[i]['date'])]\n",
        "  del dfs[i]['year']\n",
        "  del dfs[i]['month']\n",
        "  del dfs[i]['day']\n",
        "  dfs[i] = dfs[i].sort_values('date', ascending = True)\n",
        "  dfs[i] = dfs[i].set_index('date')\n",
        "  dfs[i].interpolate(inplace=True)\n",
        "  dfs[i] = dfs[i]['2022-02-10':'2022-12-30']\n",
        "\n",
        "# new dataframe for air quality dataset\n",
        "df_t_avg,df_t_max,df_t_min,df_rain,df_wind = dfs\n",
        "# preprocessing of air quality dataset\n",
        "# 1. choose values from Brno-Tuřany\n",
        "# 2. removing zero values of pm2_5_1h column\n",
        "# 3. set index as date column created by cast of actualized to datetime\n",
        "# 4. interpolation of empty values\n",
        "# 5. remove of unnecessary columns\n",
        "# 6. agregation of values into dayli means\n",
        "# 7. trim datasets to interval \n",
        "# 8. remove of unnecessary values (columns of values)\n",
        "df_air = air[air['name']=='Brno-Tuřany']\n",
        "df_air['pm2_5_1h'] = df_air['pm2_5_1h'].replace(0.0,np.NaN)\n",
        "df_air['date'] = pd.to_datetime(df_air['actualized'])\n",
        "df_air = df_air.sort_values('date', ascending = True)\n",
        "df_air = df_air.set_index('date')\n",
        "df_air.interpolate(inplace=True)\n",
        "df_air = df_air['2022-02-10':'2022-12-30']\n",
        "del df_air['X']\n",
        "del df_air['Y']\n",
        "del df_air['lat']\n",
        "del df_air['lon']\n",
        "del df_air['so2_1h']\n",
        "del df_air['co_8h']\n",
        "del df_air['pm10_24h']\n",
        "del df_air['o3_1h']\n",
        "del df_air['objectid']\n",
        "del df_air['code']\n",
        "del df_air['name']\n",
        "del df_air['owner']\n",
        "del df_air['globalid']\n",
        "del df_air['actualized']\n",
        "df_air = df_air.resample(\"D\").mean()\n",
        "df_air = df_air.tz_localize(None)\n",
        "df_air.interpolate(inplace=True)"
      ],
      "metadata": {
        "id": "Gidaj4xIeJ0c",
        "outputId": "51b1103f-aa1c-46b7-95dd-ef666f9ee215",
        "colab": {
          "base_uri": "https://localhost:8080/"
        }
      },
      "execution_count": null,
      "outputs": [
        {
          "output_type": "stream",
          "name": "stderr",
          "text": [
            "<ipython-input-53-e365a137030d>:38: SettingWithCopyWarning: \n",
            "A value is trying to be set on a copy of a slice from a DataFrame.\n",
            "Try using .loc[row_indexer,col_indexer] = value instead\n",
            "\n",
            "See the caveats in the documentation: https://pandas.pydata.org/pandas-docs/stable/user_guide/indexing.html#returning-a-view-versus-a-copy\n",
            "  df_air['pm2_5_1h'] = df_air['pm2_5_1h'].replace(0.0,np.NaN)\n",
            "<ipython-input-53-e365a137030d>:39: SettingWithCopyWarning: \n",
            "A value is trying to be set on a copy of a slice from a DataFrame.\n",
            "Try using .loc[row_indexer,col_indexer] = value instead\n",
            "\n",
            "See the caveats in the documentation: https://pandas.pydata.org/pandas-docs/stable/user_guide/indexing.html#returning-a-view-versus-a-copy\n",
            "  df_air['date'] = pd.to_datetime(df_air['actualized'])\n"
          ]
        }
      ]
    },
    {
      "cell_type": "markdown",
      "source": [
        "# Část 3: Analýza dat \n",
        "\n",
        "V této části budete anaylzovat své časové řady. Není zde připravena žádná šablona, jelikož každý můžete používat rozdílné struktury uložení dat - a různé postupy - které povedou ke sprévnému výsledku.\n",
        "\n",
        "V souboru se zadáním je ovšem zmíněno několik funkcí, které vám mohou pomoci. \n",
        "\n",
        "Stručné zadání:\n",
        "Pro dvojice dat, pro které jste zformulovali hypotézy v části 1, a pro 3 libovolně zvolené jiné dvojice časových řad (jiné než ty, pro které jste formulovali hypotézy a nikoli dvě sady teplotních údajů) zjistěte:\n",
        "1) Kovarianci\n",
        "2) Pearsonův korelační koeficient\n",
        "3) Statistickou významnost koeficientu"
      ],
      "metadata": {
        "id": "nY5x8988W2ru"
      }
    },
    {
      "cell_type": "code",
      "source": [
        "def covariance(x, y):\n",
        "  return x.cov(y)\n",
        "\n",
        "def pCorelCoefAndSig(x,y):\n",
        "  return stats.pearsonr(x,y)\n",
        "\n",
        "def analyze(x,y,xName,yName):\n",
        "  cov = covariance(x,y)\n",
        "  r,p = pCorelCoefAndSig(x,y)\n",
        "  print(\"Vzťah\",xName,\"a\",yName)\n",
        "  print(\"Kovariancia\",\"=\",cov)\n",
        "  if(abs(cov)<0.3):\n",
        "    print(\"Nevýznamná závislosť.\")\n",
        "  elif(cov<0):\n",
        "    print(\"Nepriama závislosť.\")\n",
        "  else:\n",
        "    print(\"Priama závislosť.\")\n",
        "\n",
        "  print(\"Pearsnov korelačný koeficient\")\n",
        "  print(\"r\",\"=\",r)\n",
        "  print(\"p\",\"=\",p)\n",
        "  print(\"Odhad významnosti závislosti:\")\n",
        "  if(abs(r)<0.1):\n",
        "    print(\"Žiadna \",end=\"\")\n",
        "  elif(abs(r)<0.3):\n",
        "    print(\"Málo významná \",end=\"\")\n",
        "  elif(abs(r)<0.5):\n",
        "    print(\"Stredne významná \",end=\"\")\n",
        "  else:\n",
        "    print(\"Silne významná \",end=\"\")\n",
        "\n",
        "  if(abs(r)<0.1):\n",
        "    print(\"závislosť.\")\n",
        "  elif(r > 0):\n",
        "    print(\"priama lineárna závislosť.\")\n",
        "  else:\n",
        "    print(\"nepriama lineárna závislosť.\")\n",
        "\n",
        "  print(\"Významnosť závislosti:\")\n",
        "  if(p<0.05):\n",
        "    if(r> 0):\n",
        "      print(\"Významná priama lineárna závislosť.\")\n",
        "    else:\n",
        "      print(\"Významná nepriama lineárna závislosť.\")\n",
        "  else:\n",
        "    if(r> 0):\n",
        "      print(\"Nevýznamná závislosť.\")\n",
        "    else:\n",
        "      print(\"Nevýznamná závislosť.\")\n",
        "  print()\n",
        "  print()\n",
        "\n",
        "analyze(df_wind[\"value\"],df_t_min[\"value\"],\"Rýchlosť vetra\",\"Minimálna teplota\")\n",
        "analyze(df_t_min[\"value\"],df_rain[\"value\"],\"Minimálna teplota\",\"Množstvo zrážok\")\n",
        "analyze(df_rain[\"value\"],df_wind[\"value\"],\"Množstvo zrážok\",\"Rýchlosť vetra\")\n",
        "analyze(df_t_max[\"value\"],df_t_avg[\"value\"],\"Maximálna teplota\",\"Priemerná teplota\")\n",
        "\n",
        "\n",
        "analyze(df_rain[\"value\"],df_air[\"pm10_1h\"],\"Množstvo zrážok\",\"Množstvo polietavého prachu do 10um (peľ, štandardný prach)\")\n",
        "analyze(df_wind[\"value\"],df_air[\"no2_1h\"],\"Rýchlosť vetra\",\"Koncentrácia NO2\")\n",
        "analyze(df_rain[\"value\"],df_air[\"no2_1h\"],\"Množstvo zrážok\",\"Koncentrácia NO2\")\n",
        "analyze(df_air[\"no2_1h\"],df_air[\"pm10_1h\"],\"Koncentrácia NO2\",\"Množstvo polietavého prachu do 10um (peľ, štandardný prach)\")"
      ],
      "metadata": {
        "id": "-kFY6T1EeK8y",
        "outputId": "c9cbeea1-5e23-42d0-9a22-fa3193dc1149",
        "colab": {
          "base_uri": "https://localhost:8080/"
        }
      },
      "execution_count": null,
      "outputs": [
        {
          "output_type": "stream",
          "name": "stdout",
          "text": [
            "Vzťah Rýchlosť vetra a Minimálna teplota\n",
            "Kovariancia = -1.2783887551121804\n",
            "Nepriama závislosť.\n",
            "Pearsnov korelačný koeficient\n",
            "r = -0.11782847290945557\n",
            "p = 0.03399710741619898\n",
            "Odhad významnosti závislosti:\n",
            "Málo významná nepriama lineárna závislosť.\n",
            "Významnosť závislosti:\n",
            "Významná nepriama lineárna závislosť.\n",
            "\n",
            "\n",
            "Vzťah Minimálna teplota a Množstvo zrážok\n",
            "Kovariancia = 2.8366318847227014\n",
            "Priama závislosť.\n",
            "Pearsnov korelačný koeficient\n",
            "r = 0.07868609401667748\n",
            "p = 0.1576358972347298\n",
            "Odhad významnosti závislosti:\n",
            "Žiadna závislosť.\n",
            "Významnosť závislosti:\n",
            "Nevýznamná závislosť.\n",
            "\n",
            "\n",
            "Vzťah Množstvo zrážok a Rýchlosť vetra\n",
            "Kovariancia = 0.5793156365860183\n",
            "Priama závislosť.\n",
            "Pearsnov korelačný koeficient\n",
            "r = 0.11795957808126889\n",
            "p = 0.03379731694320528\n",
            "Odhad významnosti závislosti:\n",
            "Málo významná priama lineárna závislosť.\n",
            "Významnosť závislosti:\n",
            "Významná priama lineárna závislosť.\n",
            "\n",
            "\n",
            "Vzťah Maximálna teplota a Priemerná teplota\n",
            "Kovariancia = 51.78719828574704\n",
            "Priama závislosť.\n",
            "Pearsnov korelačný koeficient\n",
            "r = 0.9602633849082783\n",
            "p = 1.5758842553556688e-180\n",
            "Odhad významnosti závislosti:\n",
            "Silne významná priama lineárna závislosť.\n",
            "Významnosť závislosti:\n",
            "Významná priama lineárna závislosť.\n",
            "\n",
            "\n",
            "Vzťah Množstvo zrážok a Množstvo polietavého prachu do 10um (peľ, štandardný prach)\n",
            "Kovariancia = -5.975151559268101\n",
            "Nepriama závislosť.\n",
            "Pearsnov korelačný koeficient\n",
            "r = -0.1396964761067851\n",
            "p = 0.011830082095854537\n",
            "Odhad významnosti závislosti:\n",
            "Málo významná nepriama lineárna závislosť.\n",
            "Významnosť závislosti:\n",
            "Významná nepriama lineárna závislosť.\n",
            "\n",
            "\n",
            "Vzťah Rýchlosť vetra a Koncentrácia NO2\n",
            "Kovariancia = -3.017874986705947\n",
            "Nepriama závislosť.\n",
            "Pearsnov korelačný koeficient\n",
            "r = -0.41610312569114466\n",
            "p = 5.354114617476238e-15\n",
            "Odhad významnosti závislosti:\n",
            "Stredne významná nepriama lineárna závislosť.\n",
            "Významnosť závislosti:\n",
            "Významná nepriama lineárna závislosť.\n",
            "\n",
            "\n",
            "Vzťah Množstvo zrážok a Koncentrácia NO2\n",
            "Kovariancia = -3.0688262494739353\n",
            "Nepriama závislosť.\n",
            "Pearsnov korelačný koeficient\n",
            "r = -0.12734436522329384\n",
            "p = 0.02186637114220973\n",
            "Odhad významnosti závislosti:\n",
            "Málo významná nepriama lineárna závislosť.\n",
            "Významnosť závislosti:\n",
            "Významná nepriama lineárna závislosť.\n",
            "\n",
            "\n",
            "Vzťah Koncentrácia NO2 a Množstvo polietavého prachu do 10um (peľ, štandardný prach)\n",
            "Kovariancia = 35.58582392567162\n",
            "Priama závislosť.\n",
            "Pearsnov korelačný koeficient\n",
            "r = 0.5633720851609054\n",
            "p = 1.5704814275775737e-28\n",
            "Odhad významnosti závislosti:\n",
            "Silne významná priama lineárna závislosť.\n",
            "Významnosť závislosti:\n",
            "Významná priama lineárna závislosť.\n",
            "\n",
            "\n"
          ]
        }
      ]
    },
    {
      "cell_type": "markdown",
      "source": [
        "## Část 4: Diskuze\n",
        "\n",
        "Níže uveďte požadované údaje tak, jak jsou popsány v souboru se zadáním."
      ],
      "metadata": {
        "id": "v5Z6GIpwtdWS"
      }
    },
    {
      "cell_type": "markdown",
      "source": [
        "Hodnoty spojené s testami sú uvedené prehľadne vo výstupe predchádzajúcej bunky.\n",
        "Nižšie uvediem len komentár k dosiahnutým výsledkom:<br>\n",
        "\n",
        "## Hypotézy\n",
        "Vzťah Rýchlosť vetra a Minimálna teplota<br>\n",
        "Potvrdila sa nepriama závislosť medzi sledovanými veličinami. Príčiny boli konštatované pri vyslovení hypotézy.\n",
        "<br><br>\n",
        "Vzťah Minimálna teplota a Množstvo zrážok<br>\n",
        "Žiadna závislosť sa nepotvrdila. Pri vyslovení hypotézy bola použitá argumentácia:<br>\n",
        "Ak prší je zamračené, teda nesvieti slnko a je teda chladnejšie.<br>\n",
        "Túto argumentáciu je možné napadnúť, pretože počas zimných mesiacov platí opačný jav, teda pri jasnom počasí. Celkovo teda môžeme povedať, že je pochopiteľné, že v priemere za celý rok neexistuje žiaden významný vzťah.<br><br>\n",
        "\n",
        "\n",
        "Vzťah Množstvo zrážok a Rýchlosť vetra<br>\n",
        "Potvrdila sa nepriama závislosť medzi sledovanými veličinami. Príčiny boli konštatované pri vyslovení hypotézy.\n",
        "<br><br>\n",
        "\n",
        "\n",
        "Vzťah Maximálna teplota a Priemerná teplota<br>\n",
        "Potvrdila sa silná priama závislosť medzi sledovanými veličinami. Príčiny boli konštatované pri vyslovení hypotézy.\n",
        "<br><br>\n",
        "\n",
        "## Náhodné porovnania\n",
        "Vzťah Množstvo zrážok a Množstvo polietavého prachu do 10um (peľ, štandardný prach)<br>\n",
        "Potvrdila sa nepriama závislosť medzi sledovanými veličinami.\n",
        "Možnou príčinou by môhol byť fakt, že počas dažďa kvapky padajúce na zem skrz vzduch pohlcujú častice vo vzduchu rozptýlené a tak znižujú ich koncentráciu.\n",
        "<br><br>\n",
        "Vzťah Rýchlosť vetra a Koncentrácia NO2<br>\n",
        "Potvrdila sa nepriama závislosť medzi sledovanými veličinami.\n",
        "Možnou príčinou by môhol byť zdroj NO2 v blízkosti meracej stanice a relatívne slabé zdroje vo väčšej vzdialenosti od meracej stanice. V takomto prípade sa koncentrácia NO2 pri silnejšom vetre rozptýli po okolí, teda v okolí meracej stanice sa zníži.\n",
        "<br><br>\n",
        "Vzťah Množstvo zrážok a Koncentrácia NO2<br>\n",
        "Potvrdila sa nepriama závislosť medzi sledovanými veličinami.\n",
        "Možnou príčinou by môhol byť fakt, že NO2 je pohlcované kvapalinami (a sliznicami) a teda dážď viaže NO2 zo vzduchu a tak znižuje koncentráciu NO2.\n",
        "NO2 je jednou zo zložiek tzv. kyslých dažďov.\n",
        "<br><br>\n",
        "\n",
        "\n",
        "Vzťah Koncentrácia NO2 a Množstvo polietavého prachu do 10um (peľ, štandardný prach)<br>\n",
        "Potvrdila sa nepriama závislosť medzi sledovanými veličinami.\n",
        "Vyššie bolo uvedené, že koncentrácia NO2 aj množstvo polietavého prachu do 10um sú nepriamo závislé na množstve zrážok. Z toho vyplýva, že sú obe veličiny priamo závislé jedna od druhej.\n",
        "Je možné konštatovať, že okrem zrážok, ktoré viažu rovnako NO2 aj prachové častice, rovnako aj vzdučné prúdenie obdobne rozptyluje ako NO2, tak aj prachové častice. Môžeme teda tvrdiť, že koncentrácia NO2 by mala byť priamo závislá na množstve polietavého prachu do 10um."
      ],
      "metadata": {
        "id": "Nhz_MSBt1dzw"
      }
    },
    {
      "cell_type": "markdown",
      "source": [
        "## (Část 5: Zpětná vazba)\n",
        "\n",
        "Projekt formou jupyter notebooku je zaujímavejšia voľba ako jednoduché pokyny formou \"dáta tu: url, vypracujte analýzu\", čo sa stáva v prípade niektorých iných projektov na FITe. Oceňujem tiež presné a explicitné zadanie, ktoré nevyžadovalo sledovanie niekoľkých informačných kanálov len preto, aby som splnil \"zadanie\".\n",
        "\n",
        "Tiež som sa vďaka projektu zoznámil s colabom (zatiaľ najlepší a najjednoduchší spôsob prezentácie ipynb súborov) a dúfam, že zvládnem úspešne odovzdať projekt podľa pokynov."
      ],
      "metadata": {
        "id": "sVBdXUu6x97r"
      }
    }
  ]
}